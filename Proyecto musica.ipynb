{
 "cells": [
  {
   "cell_type": "markdown",
   "metadata": {},
   "source": [
    "# Hola María!\n",
    "\n",
    "Mi nombre es David Bautista, soy code reviewer de TripleTen y voy a revisar el proyecto que acabas de desarrollar.\n",
    "\n",
    "Cuando vea un error la primera vez, lo señalaré. Deberás encontrarlo y arreglarlo. La intención es que te prepares para un espacio real de trabajo. En un trabajo, el líder de tu equipo hará lo mismo. Si no puedes solucionar el error, te daré más información en la próxima ocasión.\n",
    "\n",
    "Encontrarás mis comentarios más abajo - **por favor, no los muevas, no los modifiques ni los borres.**\n",
    "\n",
    "¿Cómo lo voy a hacer? Voy a leer detenidamente cada una de las implementaciones que has llevado a cabo para cumplir con lo solicitado. Verás los comentarios de esta forma:\n",
    "\n",
    "\n",
    "<div class=\"alert alert-block alert-success\">\n",
    "<b>Comentario del revisor</b> <a class=\"tocSkip\"></a>\n",
    "    \n",
    "Si todo está perfecto.\n",
    "</div>\n",
    "\n",
    "\n",
    "<div class=\"alert alert-block alert-warning\">\n",
    "<b>Comentario del revisor</b> <a class=\"tocSkip\"></a>\n",
    "    \n",
    "Si tu código está bien pero se puede mejorar o hay algún detalle que le hace falta.\n",
    "</div>\n",
    "\n",
    "\n",
    "<div class=\"alert alert-block alert-danger\">\n",
    "    \n",
    "<b>Comentario del revisor</b> <a class=\"tocSkip\"></a>\n",
    "    \n",
    "    \n",
    "Si de pronto hace falta algo o existe algún problema con tu código o conclusiones.\n",
    "</div>\n",
    "\n",
    "\n",
    "Puedes responderme de esta forma: \n",
    "\n",
    "<div class=\"alert alert-block alert-info\">\n",
    "<b>Respuesta del estudiante</b> <a class=\"tocSkip\"></a>\n",
    "</div\n",
    "\n",
    "¡Empecemos!"
   ]
  },
  {
   "cell_type": "markdown",
   "metadata": {},
   "source": [
    "<div class=\"alert alert-block alert-danger\">\n",
    "<b>Comentario del revisor</b> <a class=\"tocSkip\"></a>\n",
    "    \n",
    "# Comentario General\n",
    "    \n",
    "Hola, María, te felicito por el desarrollo del proyecto hasta el momento. Ahora bien, he dejado algunos comentarios para que los puedas tener en cuenta para la siguiente entrega. <div>"
   ]
  },
  {
   "cell_type": "markdown",
   "metadata": {
    "id": "E0vqbgi9ay0H"
   },
   "source": [
    "# Déjame escuchar la música"
   ]
  },
  {
   "cell_type": "markdown",
   "metadata": {
    "id": "fhq_eyov_Zcs"
   },
   "source": [
    "# Contenido <a id='back'></a>\n",
    "\n",
    "* [Introducción](#intro)\n",
    "* [Etapa 1. Descripción de los datos](#data_review)\n",
    "    * [Conclusiones](#data_review_conclusions)\n",
    "* [Etapa 2. Preprocesamiento de datos](#data_preprocessing)\n",
    "    * [2.1 Estilo del encabezado](#header_style)\n",
    "    * [2.2 Valores ausentes](#missing_values)\n",
    "    * [2.3 Duplicados](#duplicates)\n",
    "    * [2.4 Conclusiones](#data_preprocessing_conclusions)\n",
    "* [Etapa 3. Prueba de hipótesis](#hypothesis)\n",
    "    * [3.1 Hipótesis 1: actividad de los usuarios y las usuarias en las dos ciudades](#activity)\n",
    "* [Conclusiones](#end)"
   ]
  },
  {
   "cell_type": "markdown",
   "metadata": {
    "id": "VUC88oWjTJw2"
   },
   "source": [
    "## Introducción <a id='intro'></a>\n",
    "Como analista de datos, tu trabajo consiste en analizar datos para extraer información valiosa y tomar decisiones basadas en ellos. Esto implica diferentes etapas, como la descripción general de los datos, el preprocesamiento y la prueba de hipótesis.\n",
    "\n",
    "Siempre que investigamos, necesitamos formular hipótesis que después podamos probar. A veces aceptamos estas hipótesis; otras veces, las rechazamos. Para tomar las decisiones correctas, una empresa debe ser capaz de entender si está haciendo las suposiciones correctas.\n",
    "\n",
    "En este proyecto, compararás las preferencias musicales de las ciudades de Springfield y Shelbyville. Estudiarás datos reales de transmisión de música online para probar la hipótesis a continuación y comparar el comportamiento de los usuarios y las usuarias de estas dos ciudades.\n",
    "\n",
    "### Objetivo:\n",
    "Prueba la hipótesis:\n",
    "1. La actividad de los usuarios y las usuarias difiere según el día de la semana y dependiendo de la ciudad.\n",
    "\n",
    "\n",
    "### Etapas\n",
    "Los datos del comportamiento del usuario se almacenan en el archivo `/datasets/music_project_en.csv`. No hay ninguna información sobre la calidad de los datos, así que necesitarás examinarlos antes de probar la hipótesis.\n",
    "\n",
    "Primero, evaluarás la calidad de los datos y verás si los problemas son significativos. Entonces, durante el preprocesamiento de datos, tomarás en cuenta los problemas más críticos.\n",
    "\n",
    "Tu proyecto consistirá en tres etapas:\n",
    " 1. Descripción de los datos.\n",
    " 2. Preprocesamiento de datos.\n",
    " 3. Prueba de hipótesis.\n",
    "\n",
    "\n",
    "\n",
    "\n",
    "\n",
    "\n"
   ]
  },
  {
   "cell_type": "markdown",
   "metadata": {
    "id": "hDt6pg-Rw-1U"
   },
   "source": [
    "[Volver a Contenidos](#back)"
   ]
  },
  {
   "cell_type": "markdown",
   "metadata": {
    "id": "Ml1hmfXC_Zcs"
   },
   "source": [
    "## Etapa 1. Descripción de los datos <a id='data_review'></a>\n",
    "\n",
    "Abre los datos y examínalos."
   ]
  },
  {
   "cell_type": "markdown",
   "metadata": {
    "id": "57eAOGIz_Zcs"
   },
   "source": [
    "Necesitarás `pandas`, así que impórtalo."
   ]
  },
  {
   "cell_type": "code",
   "execution_count": 2,
   "metadata": {
    "id": "AXN7PHPN_Zcs"
   },
   "outputs": [],
   "source": [
    "import pandas as pd # Importar pandas\n"
   ]
  },
  {
   "cell_type": "markdown",
   "metadata": {},
   "source": [
    "<div class=\"alert alert-block alert-success\">\n",
    "<b>Comentario del revisor</b> <a class=\"tocSkip\"></a>\n",
    "    \n",
    "Buen trabajo importando ``pandas``.\n",
    "</div>"
   ]
  },
  {
   "cell_type": "markdown",
   "metadata": {
    "id": "SG23P8tt_Zcs"
   },
   "source": [
    "Lee el archivo `music_project_en.csv` de la carpeta `/datasets/` y guárdalo en la variable `df`:"
   ]
  },
  {
   "cell_type": "code",
   "execution_count": 3,
   "metadata": {
    "id": "fFVu7vqh_Zct"
   },
   "outputs": [],
   "source": [
    "df = pd.read_csv('/datasets/music_project_en.csv') # Leer el archivo y almacenarlo en df\n"
   ]
  },
  {
   "cell_type": "markdown",
   "metadata": {},
   "source": [
    "<div class=\"alert alert-block alert-success\">\n",
    "<b>Comentario del revisor</b> <a class=\"tocSkip\"></a>\n",
    "    \n",
    "Perfecto, buen trabajo cargando el dataset.\n",
    "</div>"
   ]
  },
  {
   "cell_type": "markdown",
   "metadata": {
    "id": "rDoOMd3uTqnZ"
   },
   "source": [
    "Muestra las 10 primeras filas de la tabla:"
   ]
  },
  {
   "cell_type": "code",
   "execution_count": 4,
   "metadata": {
    "id": "oWTVX3gW_Zct"
   },
   "outputs": [
    {
     "name": "stdout",
     "output_type": "stream",
     "text": [
      "     userID                        Track            artist   genre  \\\n",
      "0  FFB692EC            Kamigata To Boots  The Mass Missile    rock   \n",
      "1  55204538  Delayed Because of Accident  Andreas Rönnberg    rock   \n",
      "2    20EC38            Funiculì funiculà       Mario Lanza     pop   \n",
      "3  A3DD03C9        Dragons in the Sunset        Fire + Ice    folk   \n",
      "4  E2DC1FAE                  Soul People        Space Echo   dance   \n",
      "5  842029A1                       Chains          Obladaet  rusrap   \n",
      "6  4CB90AA5                         True      Roman Messer   dance   \n",
      "7  F03E1C1F             Feeling This Way   Polina Griffith   dance   \n",
      "8  8FA1D3BE                     L’estate       Julia Dalia  ruspop   \n",
      "9  E772D5C0                    Pessimist               NaN   dance   \n",
      "\n",
      "        City        time        Day  \n",
      "0  Shelbyville  20:28:33  Wednesday  \n",
      "1  Springfield  14:07:09     Friday  \n",
      "2  Shelbyville  20:58:07  Wednesday  \n",
      "3  Shelbyville  08:37:09     Monday  \n",
      "4  Springfield  08:34:34     Monday  \n",
      "5  Shelbyville  13:09:41     Friday  \n",
      "6  Springfield  13:00:07  Wednesday  \n",
      "7  Springfield  20:47:49  Wednesday  \n",
      "8  Springfield  09:17:40     Friday  \n",
      "9  Shelbyville  21:20:49  Wednesday  \n"
     ]
    }
   ],
   "source": [
    "print(df.head(10))# Obtener las 10 primeras filas de la tabla df\n"
   ]
  },
  {
   "cell_type": "markdown",
   "metadata": {},
   "source": [
    "<div class=\"alert alert-block alert-success\">\n",
    "<b>Comentario del revisor</b> <a class=\"tocSkip\"></a>\n",
    "    \n",
    "Buen trabajo usando el método ``head()``. \n",
    "</div>"
   ]
  },
  {
   "cell_type": "markdown",
   "metadata": {
    "id": "EO73Kwic_Zct"
   },
   "source": [
    "Obtén la información general sobre la tabla con un comando. Conoces el método que muestra la información general que necesitamos."
   ]
  },
  {
   "cell_type": "code",
   "execution_count": 5,
   "metadata": {
    "id": "DSf2kIb-_Zct"
   },
   "outputs": [
    {
     "name": "stdout",
     "output_type": "stream",
     "text": [
      "<class 'pandas.core.frame.DataFrame'>\n",
      "RangeIndex: 65079 entries, 0 to 65078\n",
      "Data columns (total 7 columns):\n",
      " #   Column    Non-Null Count  Dtype \n",
      "---  ------    --------------  ----- \n",
      " 0     userID  65079 non-null  object\n",
      " 1   Track     63736 non-null  object\n",
      " 2   artist    57512 non-null  object\n",
      " 3   genre     63881 non-null  object\n",
      " 4     City    65079 non-null  object\n",
      " 5   time      65079 non-null  object\n",
      " 6   Day       65079 non-null  object\n",
      "dtypes: object(7)\n",
      "memory usage: 3.5+ MB\n",
      "None\n"
     ]
    }
   ],
   "source": [
    "print(df.info()) # Obtener la información general sobre nuestros datos\n"
   ]
  },
  {
   "cell_type": "markdown",
   "metadata": {},
   "source": [
    "<div class=\"alert alert-block alert-success\">\n",
    "<b>Comentario del revisor</b> <a class=\"tocSkip\"></a>\n",
    "    \n",
    "Perfecto, buen trabajo usando el método ``info()``. \n",
    "</div>"
   ]
  },
  {
   "cell_type": "markdown",
   "metadata": {
    "id": "TaQ2Iwbr_Zct"
   },
   "source": [
    "Estas son nuestras observaciones sobre la tabla. Contiene siete columnas. Almacenan los mismos tipos de datos: `object`.\n",
    "\n",
    "Según la documentación:\n",
    "- `' userID'`: identificador del usuario o la usuaria;\n",
    "- `'Track'`: título de la canción;\n",
    "- `'artist'`: nombre del artista;\n",
    "- `'genre'`: género de la pista;\n",
    "- `'City'`: ciudad del usuario o la usuaria;\n",
    "- `'time'`: la hora exacta en la que se reprodujo la canción;\n",
    "- `'Day'`: día de la semana.\n",
    "\n",
    "Podemos ver tres problemas con el estilo en los encabezados de la tabla:\n",
    "1. Algunos encabezados están en mayúsculas, otros en minúsculas.\n",
    "2. Hay espacios en algunos encabezados.\n",
    "3. userID no está en formato snake_case.\n",
    "\n",
    "\n"
   ]
  },
  {
   "cell_type": "markdown",
   "metadata": {
    "id": "MCB6-dXG_Zct"
   },
   "source": [
    "### Escribe observaciones de tu parte. Estas son algunas de las preguntas que pueden ser útiles: <a id='data_review_conclusions'></a>\n",
    "\n",
    "`1.   ¿Qué tipo de datos tenemos a nuestra disposición en las filas? ¿Y cómo podemos entender lo que almacenan las columnas?`\n",
    "Todos los datos son tipo object\n",
    "\n",
    "`2.   ¿Hay suficientes datos para proporcionar respuestas a nuestra hipótesis o necesitamos más información?`\n",
    "Creo que la información dada es suficiente para responder la hipótesis\n",
    "\n",
    "`3.   ¿Notaste algún problema en los datos, como valores ausentes, duplicados o tipos de datos incorrectos?`\n",
    "Hay varios valores ausentes"
   ]
  },
  {
   "cell_type": "markdown",
   "metadata": {},
   "source": [
    "<div class=\"alert alert-block alert-success\">\n",
    "<b>Comentario del revisor</b> <a class=\"tocSkip\"></a>\n",
    "    \n",
    "Buen trabajo con el desarrollo de las observaciones. \n",
    "</div>"
   ]
  },
  {
   "cell_type": "markdown",
   "metadata": {
    "id": "3eL__vcwViOi"
   },
   "source": [
    "[Volver a Contenidos](#back)"
   ]
  },
  {
   "cell_type": "markdown",
   "metadata": {
    "id": "SjYF6Ub9_Zct"
   },
   "source": [
    "## Etapa 2. Preprocesamiento de datos <a id='data_preprocessing'></a>\n",
    "\n",
    "El objetivo aquí es preparar los datos para que sean analizados.\n",
    "El primer paso es resolver cualquier problema con los encabezados. Luego podemos avanzar a los valores ausentes y duplicados. Empecemos.\n",
    "\n",
    "Corrige el formato en los encabezados de la tabla.\n"
   ]
  },
  {
   "cell_type": "markdown",
   "metadata": {
    "id": "dIaKXr29_Zct"
   },
   "source": [
    "### Estilo del encabezado <a id='header_style'></a>\n",
    "Muestra los encabezados de la tabla (los nombres de las columnas):"
   ]
  },
  {
   "cell_type": "code",
   "execution_count": 6,
   "metadata": {
    "id": "oKOTdF_Q_Zct"
   },
   "outputs": [
    {
     "name": "stdout",
     "output_type": "stream",
     "text": [
      "Index(['  userID', 'Track', 'artist', 'genre', '  City  ', 'time', 'Day'], dtype='object')\n"
     ]
    }
   ],
   "source": [
    "print(df.columns)\n",
    "\n"
   ]
  },
  {
   "cell_type": "markdown",
   "metadata": {},
   "source": [
    "<div class=\"alert alert-block alert-success\">\n",
    "<b>Comentario del revisor</b> <a class=\"tocSkip\"></a>\n",
    "    \n",
    "Perfecto, buen trabajo mostrando los encabezados de la tabla.\n",
    "</div>"
   ]
  },
  {
   "cell_type": "markdown",
   "metadata": {
    "id": "zj5534cv_Zct"
   },
   "source": [
    "Cambia los encabezados de la tabla de acuerdo con las reglas del buen estilo:\n",
    "* Todos los caracteres deben ser minúsculas.\n",
    "* Elimina los espacios.\n",
    "* Si el nombre tiene varias palabras, utiliza snake_case."
   ]
  },
  {
   "cell_type": "markdown",
   "metadata": {
    "id": "Xu0zkfe5zNJe"
   },
   "source": [
    "Anteriormente, aprendiste acerca de la forma automática de cambiar el nombre de las columnas. Vamos a aplicarla ahora. Utiliza el bucle for para iterar sobre los nombres de las columnas y poner todos los caracteres en minúsculas. Cuando hayas terminado, vuelve a mostrar los encabezados de la tabla:"
   ]
  },
  {
   "cell_type": "code",
   "execution_count": 7,
   "metadata": {
    "id": "6I_RwwMhzM4e"
   },
   "outputs": [
    {
     "name": "stdout",
     "output_type": "stream",
     "text": [
      "Index(['  userid', 'track', 'artist', 'genre', '  city  ', 'time', 'day'], dtype='object')\n"
     ]
    }
   ],
   "source": [
    "new_col_names = []\n",
    "\n",
    "for old_name in df.columns:\n",
    "    name_lowered = old_name.lower()\n",
    "    new_col_names.append(name_lowered)\n",
    "\n",
    "df.columns = new_col_names\n",
    "print(df.columns)\n",
    "# Bucle en los encabezados poniendo todo en minúsculas\n"
   ]
  },
  {
   "cell_type": "markdown",
   "metadata": {},
   "source": [
    "<div class=\"alert alert-block alert-success\">\n",
    "<b>Comentario del revisor</b> <a class=\"tocSkip\"></a>\n",
    "    \n",
    "Perfecto, buen trabajo usando el bucle para aplicar el lower a cada uno de los encabezados. \n",
    "</div>"
   ]
  },
  {
   "cell_type": "markdown",
   "metadata": {
    "id": "pweIRxjSzPYW"
   },
   "source": [
    "Ahora, utilizando el mismo método, elimina los espacios al principio y al final de los nombres de las columnas e imprime los nombres de las columnas nuevamente:"
   ]
  },
  {
   "cell_type": "code",
   "execution_count": 8,
   "metadata": {
    "id": "vVQXbFyJzSYl"
   },
   "outputs": [
    {
     "name": "stdout",
     "output_type": "stream",
     "text": [
      "Index(['userid', 'track', 'artist', 'genre', 'city', 'time', 'day'], dtype='object')\n"
     ]
    }
   ],
   "source": [
    "new_col_names = []\n",
    "\n",
    "for old_name in df.columns:\n",
    "    name_stripped  = old_name.strip()\n",
    "    new_col_names.append(name_stripped )\n",
    "\n",
    "df.columns = new_col_names\n",
    "print(df.columns) # Bucle en los encabezados eliminando los espacios\n"
   ]
  },
  {
   "cell_type": "markdown",
   "metadata": {},
   "source": [
    "<div class=\"alert alert-block alert-success\">\n",
    "<b>Comentario del revisor</b> <a class=\"tocSkip\"></a>\n",
    "    \n",
    "Perfecto, buen trabajo usando el bucle para aplicar el strip a cada uno de los encabezados. \n",
    "</div>"
   ]
  },
  {
   "cell_type": "markdown",
   "metadata": {
    "id": "yCb8MW1JzURd"
   },
   "source": [
    "Necesitamos aplicar la regla de snake_case a la columna `userid`. Debe ser `user_id`. Cambia el nombre de esta columna y muestra los nombres de todas las columnas cuando hayas terminado."
   ]
  },
  {
   "cell_type": "code",
   "execution_count": 9,
   "metadata": {
    "id": "ISlFqs5y_Zct"
   },
   "outputs": [],
   "source": [
    "columns_new={'userid':'user_id'} # escribe tu código aquí\n",
    "\n",
    "df.rename(columns=columns_new, inplace=True)\n",
    "\n",
    "# Cambiar el nombre de la columna \"userid\"\n"
   ]
  },
  {
   "cell_type": "markdown",
   "metadata": {},
   "source": [
    "<div class=\"alert alert-block alert-success\">\n",
    "<b>Comentario del revisor</b> <a class=\"tocSkip\"></a>\n",
    "    \n",
    "Perfecto, buen trabajo aplicando el formato ``snake_case`` al encabezado correspondiente. \n",
    "</div>"
   ]
  },
  {
   "cell_type": "markdown",
   "metadata": {
    "id": "1dqbh00J_Zct"
   },
   "source": [
    "Comprueba el resultado. Muestra los encabezados una vez más:"
   ]
  },
  {
   "cell_type": "code",
   "execution_count": 10,
   "metadata": {
    "id": "d4NOAmTW_Zct"
   },
   "outputs": [
    {
     "name": "stdout",
     "output_type": "stream",
     "text": [
      "Index(['user_id', 'track', 'artist', 'genre', 'city', 'time', 'day'], dtype='object')\n"
     ]
    }
   ],
   "source": [
    "print(df.columns) # Comprobar el resultado: la lista de encabezados\n"
   ]
  },
  {
   "cell_type": "markdown",
   "metadata": {
    "id": "xYJk6ksJVpOl"
   },
   "source": [
    "[Volver a Contenidos](#back)"
   ]
  },
  {
   "cell_type": "markdown",
   "metadata": {
    "id": "5ISfbcfY_Zct"
   },
   "source": [
    "### Valores ausentes <a id='missing_values'></a>\n",
    " Primero, encuentra el número de valores ausentes en la tabla. Debes utilizar dos métodos en una secuencia para obtener el número de valores ausentes."
   ]
  },
  {
   "cell_type": "code",
   "execution_count": 11,
   "metadata": {
    "id": "RskX29qr_Zct"
   },
   "outputs": [
    {
     "name": "stdout",
     "output_type": "stream",
     "text": [
      "user_id       0\n",
      "track      1343\n",
      "artist     7567\n",
      "genre      1198\n",
      "city          0\n",
      "time          0\n",
      "day           0\n",
      "dtype: int64\n"
     ]
    }
   ],
   "source": [
    "print(df.isna().sum()) # Calcular el número de valores ausentes\n"
   ]
  },
  {
   "cell_type": "markdown",
   "metadata": {},
   "source": [
    "<div class=\"alert alert-block alert-success\">\n",
    "<b>Comentario del revisor</b> <a class=\"tocSkip\"></a>\n",
    "    \n",
    "Buen trabajo identificando la cantidad de valores nulos presentes en cada una de las columnas. \n",
    "</div>"
   ]
  },
  {
   "cell_type": "markdown",
   "metadata": {
    "id": "qubhgnlO_Zct"
   },
   "source": [
    "No todos los valores ausentes afectan a la investigación. Por ejemplo, los valores ausentes en `track` y `artist` no son cruciales. Simplemente puedes reemplazarlos con valores predeterminados como el string `'unknown'` (desconocido).\n",
    "\n",
    "Pero los valores ausentes en `'genre'` pueden afectar la comparación entre las preferencias musicales de Springfield y Shelbyville. En la vida real, sería útil saber las razones por las cuales hay datos ausentes e intentar recuperarlos. Pero no tenemos esa oportunidad en este proyecto. Así que tendrás que:\n",
    "* rellenar estos valores ausentes con un valor predeterminado;\n",
    "* evaluar cuánto podrían afectar los valores ausentes a tus cómputos;"
   ]
  },
  {
   "cell_type": "markdown",
   "metadata": {
    "id": "fSv2laPA_Zct"
   },
   "source": [
    "Reemplazar los valores ausentes en las columnas `'track'`, `'artist'` y `'genre'` con el string `'unknown'`. Como mostramos anteriormente en las lecciones, la mejor forma de hacerlo es crear una lista que almacene los nombres de las columnas donde se necesita el reemplazo. Luego, utiliza esta lista e itera sobre las columnas donde se necesita el reemplazo haciendo el propio reemplazo."
   ]
  },
  {
   "cell_type": "code",
   "execution_count": 12,
   "metadata": {
    "id": "KplB5qWs_Zct"
   },
   "outputs": [],
   "source": [
    "columns_to_replace = ['track', 'artist', 'genre']\n",
    "for col in columns_to_replace:\n",
    "    df[col].fillna('unknown', inplace = True)\n",
    "# Bucle en los encabezados reemplazando los valores ausentes con 'unknown'\n"
   ]
  },
  {
   "cell_type": "markdown",
   "metadata": {
    "id": "Ilsm-MZo_Zct"
   },
   "source": [
    "Ahora comprueba el resultado para asegurarte de que después del reemplazo no haya valores ausentes en el conjunto de datos. Para hacer esto, cuenta los valores ausentes nuevamente."
   ]
  },
  {
   "cell_type": "code",
   "execution_count": 13,
   "metadata": {
    "id": "Tq4nYRX4_Zct"
   },
   "outputs": [
    {
     "name": "stdout",
     "output_type": "stream",
     "text": [
      "user_id    0\n",
      "track      0\n",
      "artist     0\n",
      "genre      0\n",
      "city       0\n",
      "time       0\n",
      "day        0\n",
      "dtype: int64\n",
      "None\n"
     ]
    }
   ],
   "source": [
    "print(print(df.isna().sum())) # Contar valores ausentes\n"
   ]
  },
  {
   "cell_type": "markdown",
   "metadata": {},
   "source": [
    "<div class=\"alert alert-block alert-success\">\n",
    "<b>Comentario del revisor</b> <a class=\"tocSkip\"></a>\n",
    "    \n",
    "Perfecto, buen trabajo solucionando el problema de los valores nulos. \n",
    "</div>"
   ]
  },
  {
   "cell_type": "markdown",
   "metadata": {
    "id": "74ZIBmq9VrsK"
   },
   "source": [
    "[Volver a Contenidos](#back)"
   ]
  },
  {
   "cell_type": "markdown",
   "metadata": {
    "id": "BWKRtBJ3_Zct"
   },
   "source": [
    "### Duplicados <a id='duplicates'></a>\n",
    "Encuentra el número de duplicados explícitos en la tabla. Una vez más, debes aplicar dos métodos en una secuencia para obtener la cantidad de duplicados explícitos."
   ]
  },
  {
   "cell_type": "code",
   "execution_count": 14,
   "metadata": {
    "id": "36eES_S0_Zct"
   },
   "outputs": [
    {
     "name": "stdout",
     "output_type": "stream",
     "text": [
      "3826\n"
     ]
    }
   ],
   "source": [
    "print(df.duplicated().sum())# Contar duplicados explícitos\n"
   ]
  },
  {
   "cell_type": "markdown",
   "metadata": {},
   "source": [
    "<div class=\"alert alert-block alert-success\">\n",
    "<b>Comentario del revisor</b> <a class=\"tocSkip\"></a>\n",
    "    \n",
    "Buen trabajo identificando la cantidad de valores duplicados dentro de la tabla. \n",
    "</div>"
   ]
  },
  {
   "cell_type": "markdown",
   "metadata": {
    "id": "Ot25h6XR_Zct"
   },
   "source": [
    "Ahora, elimina todos los duplicados. Para ello, llama al método que hace exactamente esto."
   ]
  },
  {
   "cell_type": "code",
   "execution_count": 15,
   "metadata": {
    "id": "exFHq6tt_Zct"
   },
   "outputs": [],
   "source": [
    "df.drop_duplicates(inplace=True)\n",
    "\n",
    "# Eliminar duplicados explícitos\n"
   ]
  },
  {
   "cell_type": "markdown",
   "metadata": {
    "id": "Im2YwBEG_Zct"
   },
   "source": [
    "Comprobemos ahora si eliminamos con éxito todos los duplicados. Cuenta los duplicados explícitos una vez más para asegurarte de haberlos eliminado todos:"
   ]
  },
  {
   "cell_type": "code",
   "execution_count": 16,
   "metadata": {
    "id": "-8PuNWQ0_Zct"
   },
   "outputs": [
    {
     "name": "stdout",
     "output_type": "stream",
     "text": [
      "0\n"
     ]
    }
   ],
   "source": [
    "print(df.duplicated().sum())\n",
    "# Comprobar de nuevo si hay duplicados\n",
    "\n"
   ]
  },
  {
   "cell_type": "markdown",
   "metadata": {},
   "source": [
    "<div class=\"alert alert-block alert-success\">\n",
    "<b>Comentario del revisor</b> <a class=\"tocSkip\"></a>\n",
    "    \n",
    "Buen trabajo, ahora bien. Para la próxima, ten en cuenta que puedes solucionar el problema de indexación que se genera al eliminar los duplicados de la siguiente manera. \n",
    "    \n",
    "```python\n",
    "df = df.drop_duplicates().drop_duplicates()    \n",
    "```\n",
    "</div>"
   ]
  },
  {
   "cell_type": "markdown",
   "metadata": {
    "id": "QlFBsxAr_Zct"
   },
   "source": [
    "Ahora queremos deshacernos de los duplicados implícitos en la columna `genre`. Por ejemplo, el nombre de un género se puede escribir de varias formas. Dichos errores también pueden afectar al resultado."
   ]
  },
  {
   "cell_type": "markdown",
   "metadata": {
    "id": "eSjWwsOh_Zct"
   },
   "source": [
    "Para hacerlo, primero mostremos una lista de nombres de género únicos, ordenados en orden alfabético. Para ello:\n",
    "* Extrae la columna `genre` del DataFrame.\n",
    "* Llama al método que devolverá todos los valores únicos en la columna extraída.\n"
   ]
  },
  {
   "cell_type": "code",
   "execution_count": 20,
   "metadata": {
    "id": "JIUcqzZN_Zct"
   },
   "outputs": [
    {
     "name": "stdout",
     "output_type": "stream",
     "text": [
      "['acid' 'acoustic' 'action' 'adult' 'africa' 'afrikaans' 'alternative'\n",
      " 'ambient' 'americana' 'animated' 'anime' 'arabesk' 'arabic' 'arena'\n",
      " 'argentinetango' 'art' 'audiobook' 'avantgarde' 'axé' 'baile' 'balkan'\n",
      " 'beats' 'bigroom' 'black' 'bluegrass' 'blues' 'bollywood' 'bossa'\n",
      " 'brazilian' 'breakbeat' 'breaks' 'broadway' 'cantautori' 'cantopop'\n",
      " 'canzone' 'caribbean' 'caucasian' 'celtic' 'chamber' 'children' 'chill'\n",
      " 'chinese' 'choral' 'christian' 'christmas' 'classical' 'classicmetal'\n",
      " 'club' 'colombian' 'comedy' 'conjazz' 'contemporary' 'country' 'cuban'\n",
      " 'dance' 'dancehall' 'dancepop' 'dark' 'death' 'deep' 'deutschrock'\n",
      " 'deutschspr' 'dirty' 'disco' 'dnb' 'documentary' 'downbeat' 'downtempo'\n",
      " 'drum' 'dub' 'dubstep' 'eastern' 'easy' 'electronic' 'electropop' 'emo'\n",
      " 'entehno' 'epicmetal' 'estrada' 'ethnic' 'eurofolk' 'european'\n",
      " 'experimental' 'extrememetal' 'fado' 'film' 'fitness' 'flamenco' 'folk'\n",
      " 'folklore' 'folkmetal' 'folkrock' 'folktronica' 'forró' 'frankreich'\n",
      " 'französisch' 'french' 'funk' 'future' 'gangsta' 'garage' 'german'\n",
      " 'ghazal' 'gitarre' 'glitch' 'gospel' 'gothic' 'grime' 'grunge' 'gypsy'\n",
      " 'handsup' \"hard'n'heavy\" 'hardcore' 'hardstyle' 'hardtechno' 'hip'\n",
      " 'hip-hop' 'hiphop' 'historisch' 'holiday' 'hop' 'horror' 'house' 'idm'\n",
      " 'independent' 'indian' 'indie' 'indipop' 'industrial' 'inspirational'\n",
      " 'instrumental' 'international' 'irish' 'jam' 'japanese' 'jazz' 'jewish'\n",
      " 'jpop' 'jungle' 'k-pop' 'karadeniz' 'karaoke' 'kayokyoku' 'korean'\n",
      " 'laiko' 'latin' 'latino' 'leftfield' 'local' 'lounge' 'loungeelectronic'\n",
      " 'lovers' 'malaysian' 'mandopop' 'marschmusik' 'meditative'\n",
      " 'mediterranean' 'melodic' 'metal' 'metalcore' 'mexican' 'middle'\n",
      " 'minimal' 'miscellaneous' 'modern' 'mood' 'mpb' 'muslim' 'native'\n",
      " 'neoklassik' 'neue' 'new' 'newage' 'newwave' 'nu' 'nujazz' 'numetal'\n",
      " 'oceania' 'old' 'opera' 'orchestral' 'other' 'piano' 'pop'\n",
      " 'popelectronic' 'popeurodance' 'post' 'posthardcore' 'postrock' 'power'\n",
      " 'progmetal' 'progressive' 'psychedelic' 'punjabi' 'punk' 'quebecois'\n",
      " 'ragga' 'ram' 'rancheras' 'rap' 'rave' 'reggae' 'reggaeton' 'regional'\n",
      " 'relax' 'religious' 'retro' 'rhythm' 'rnb' 'rnr' 'rock' 'rockabilly'\n",
      " 'romance' 'roots' 'ruspop' 'rusrap' 'rusrock' 'salsa' 'samba' 'schlager'\n",
      " 'self' 'sertanejo' 'shoegazing' 'showtunes' 'singer' 'ska' 'slow'\n",
      " 'smooth' 'soul' 'soulful' 'sound' 'soundtrack' 'southern' 'specialty'\n",
      " 'speech' 'spiritual' 'sport' 'stonerrock' 'surf' 'swing' 'synthpop'\n",
      " 'sängerportrait' 'tango' 'tanzorchester' 'taraftar' 'tech' 'techno'\n",
      " 'thrash' 'top' 'traditional' 'tradjazz' 'trance' 'tribal' 'trip'\n",
      " 'triphop' 'tropical' 'türk' 'türkçe' 'unknown' 'urban' 'uzbek' 'variété'\n",
      " 'vi' 'videogame' 'vocal' 'western' 'world' 'worldbeat' 'ïîï']\n"
     ]
    }
   ],
   "source": [
    "\n",
    "print(df['genre'].sort_values().unique())# Inspeccionar los nombres de géneros únicos\n"
   ]
  },
  {
   "cell_type": "markdown",
   "metadata": {},
   "source": [
    "<div class=\"alert alert-block alert-danger\">\n",
    "<b>Comentario del revisor</b> <a class=\"tocSkip\"></a>\n",
    "    \n",
    "Ten en cuenta que el ideal es poder mostrar los valores únicos de la columna ordenados alfabéticamente. <div>"
   ]
  },
  {
   "cell_type": "markdown",
   "metadata": {
    "id": "qej-Qmuo_Zct"
   },
   "source": [
    "Busca en la lista para encontrar duplicados implícitos del género `hiphop`. Estos pueden ser nombres escritos incorrectamente o nombres alternativos para el mismo género.\n",
    "\n",
    "Verás los siguientes duplicados implícitos:\n",
    "* `hip`\n",
    "* `hop`\n",
    "* `hip-hop`\n",
    "\n",
    "Para deshacerte de ellos, crea una función llamada `replace_wrong_genres()` con dos parámetros:\n",
    "* `wrong_genres=`: esta es una lista que contiene todos los valores que necesitas reemplazar.\n",
    "* `correct_genre=`: este es un string que vas a utilizar como reemplazo.\n",
    "\n",
    "Como resultado, la función debería corregir los nombres en la columna `'genre'` de la tabla `df`, es decir, remplazar cada valor de la lista `wrong_genres` por el valor en `correct_genre`.\n",
    "\n",
    "Dentro del cuerpo de la función, utiliza un bucle `'for'` para iterar sobre la lista de géneros incorrectos, extrae la columna `'genre'` y aplica el método `replace` para hacer correcciones."
   ]
  },
  {
   "cell_type": "code",
   "execution_count": 18,
   "metadata": {
    "id": "ErNDkmns_Zct",
    "scrolled": true
   },
   "outputs": [],
   "source": [
    "def replace_wrong_genres(wrong_genres, correct_genre):\n",
    "    for wrong_genre in wrong_genres:\n",
    "        df['genre'].replace(wrong_genre,correct_genre, inplace=True)\n",
    "    return df\n"
   ]
  },
  {
   "cell_type": "markdown",
   "metadata": {
    "id": "aDoBJxbA_Zct"
   },
   "source": [
    "Ahora, llama a `replace_wrong_genres()` y pásale tales argumentos para que retire los duplicados implícitos (`hip`, `hop` y `hip-hop`) y los reemplace por `hiphop`:"
   ]
  },
  {
   "cell_type": "code",
   "execution_count": 20,
   "metadata": {
    "id": "YN5i2hpmSo09"
   },
   "outputs": [
    {
     "data": {
      "text/html": [
       "<div>\n",
       "<style scoped>\n",
       "    .dataframe tbody tr th:only-of-type {\n",
       "        vertical-align: middle;\n",
       "    }\n",
       "\n",
       "    .dataframe tbody tr th {\n",
       "        vertical-align: top;\n",
       "    }\n",
       "\n",
       "    .dataframe thead th {\n",
       "        text-align: right;\n",
       "    }\n",
       "</style>\n",
       "<table border=\"1\" class=\"dataframe\">\n",
       "  <thead>\n",
       "    <tr style=\"text-align: right;\">\n",
       "      <th></th>\n",
       "      <th>user_id</th>\n",
       "      <th>track</th>\n",
       "      <th>artist</th>\n",
       "      <th>genre</th>\n",
       "      <th>city</th>\n",
       "      <th>time</th>\n",
       "      <th>day</th>\n",
       "    </tr>\n",
       "  </thead>\n",
       "  <tbody>\n",
       "    <tr>\n",
       "      <th>0</th>\n",
       "      <td>FFB692EC</td>\n",
       "      <td>Kamigata To Boots</td>\n",
       "      <td>The Mass Missile</td>\n",
       "      <td>rock</td>\n",
       "      <td>Shelbyville</td>\n",
       "      <td>20:28:33</td>\n",
       "      <td>Wednesday</td>\n",
       "    </tr>\n",
       "    <tr>\n",
       "      <th>1</th>\n",
       "      <td>55204538</td>\n",
       "      <td>Delayed Because of Accident</td>\n",
       "      <td>Andreas Rönnberg</td>\n",
       "      <td>rock</td>\n",
       "      <td>Springfield</td>\n",
       "      <td>14:07:09</td>\n",
       "      <td>Friday</td>\n",
       "    </tr>\n",
       "    <tr>\n",
       "      <th>2</th>\n",
       "      <td>20EC38</td>\n",
       "      <td>Funiculì funiculà</td>\n",
       "      <td>Mario Lanza</td>\n",
       "      <td>pop</td>\n",
       "      <td>Shelbyville</td>\n",
       "      <td>20:58:07</td>\n",
       "      <td>Wednesday</td>\n",
       "    </tr>\n",
       "    <tr>\n",
       "      <th>3</th>\n",
       "      <td>A3DD03C9</td>\n",
       "      <td>Dragons in the Sunset</td>\n",
       "      <td>Fire + Ice</td>\n",
       "      <td>folk</td>\n",
       "      <td>Shelbyville</td>\n",
       "      <td>08:37:09</td>\n",
       "      <td>Monday</td>\n",
       "    </tr>\n",
       "    <tr>\n",
       "      <th>4</th>\n",
       "      <td>E2DC1FAE</td>\n",
       "      <td>Soul People</td>\n",
       "      <td>Space Echo</td>\n",
       "      <td>dance</td>\n",
       "      <td>Springfield</td>\n",
       "      <td>08:34:34</td>\n",
       "      <td>Monday</td>\n",
       "    </tr>\n",
       "    <tr>\n",
       "      <th>...</th>\n",
       "      <td>...</td>\n",
       "      <td>...</td>\n",
       "      <td>...</td>\n",
       "      <td>...</td>\n",
       "      <td>...</td>\n",
       "      <td>...</td>\n",
       "      <td>...</td>\n",
       "    </tr>\n",
       "    <tr>\n",
       "      <th>65074</th>\n",
       "      <td>729CBB09</td>\n",
       "      <td>My Name</td>\n",
       "      <td>McLean</td>\n",
       "      <td>rnb</td>\n",
       "      <td>Springfield</td>\n",
       "      <td>13:32:28</td>\n",
       "      <td>Wednesday</td>\n",
       "    </tr>\n",
       "    <tr>\n",
       "      <th>65075</th>\n",
       "      <td>D08D4A55</td>\n",
       "      <td>Maybe One Day (feat. Black Spade)</td>\n",
       "      <td>Blu &amp; Exile</td>\n",
       "      <td>hiphop</td>\n",
       "      <td>Shelbyville</td>\n",
       "      <td>10:00:00</td>\n",
       "      <td>Monday</td>\n",
       "    </tr>\n",
       "    <tr>\n",
       "      <th>65076</th>\n",
       "      <td>C5E3A0D5</td>\n",
       "      <td>Jalopiina</td>\n",
       "      <td>unknown</td>\n",
       "      <td>industrial</td>\n",
       "      <td>Springfield</td>\n",
       "      <td>20:09:26</td>\n",
       "      <td>Friday</td>\n",
       "    </tr>\n",
       "    <tr>\n",
       "      <th>65077</th>\n",
       "      <td>321D0506</td>\n",
       "      <td>Freight Train</td>\n",
       "      <td>Chas McDevitt</td>\n",
       "      <td>rock</td>\n",
       "      <td>Springfield</td>\n",
       "      <td>21:43:59</td>\n",
       "      <td>Friday</td>\n",
       "    </tr>\n",
       "    <tr>\n",
       "      <th>65078</th>\n",
       "      <td>3A64EF84</td>\n",
       "      <td>Tell Me Sweet Little Lies</td>\n",
       "      <td>Monica Lopez</td>\n",
       "      <td>country</td>\n",
       "      <td>Springfield</td>\n",
       "      <td>21:59:46</td>\n",
       "      <td>Friday</td>\n",
       "    </tr>\n",
       "  </tbody>\n",
       "</table>\n",
       "<p>61253 rows × 7 columns</p>\n",
       "</div>"
      ],
      "text/plain": [
       "        user_id                              track            artist  \\\n",
       "0      FFB692EC                  Kamigata To Boots  The Mass Missile   \n",
       "1      55204538        Delayed Because of Accident  Andreas Rönnberg   \n",
       "2        20EC38                  Funiculì funiculà       Mario Lanza   \n",
       "3      A3DD03C9              Dragons in the Sunset        Fire + Ice   \n",
       "4      E2DC1FAE                        Soul People        Space Echo   \n",
       "...         ...                                ...               ...   \n",
       "65074  729CBB09                            My Name            McLean   \n",
       "65075  D08D4A55  Maybe One Day (feat. Black Spade)       Blu & Exile   \n",
       "65076  C5E3A0D5                          Jalopiina           unknown   \n",
       "65077  321D0506                      Freight Train     Chas McDevitt   \n",
       "65078  3A64EF84          Tell Me Sweet Little Lies      Monica Lopez   \n",
       "\n",
       "            genre         city      time        day  \n",
       "0            rock  Shelbyville  20:28:33  Wednesday  \n",
       "1            rock  Springfield  14:07:09     Friday  \n",
       "2             pop  Shelbyville  20:58:07  Wednesday  \n",
       "3            folk  Shelbyville  08:37:09     Monday  \n",
       "4           dance  Springfield  08:34:34     Monday  \n",
       "...           ...          ...       ...        ...  \n",
       "65074         rnb  Springfield  13:32:28  Wednesday  \n",
       "65075      hiphop  Shelbyville  10:00:00     Monday  \n",
       "65076  industrial  Springfield  20:09:26     Friday  \n",
       "65077        rock  Springfield  21:43:59     Friday  \n",
       "65078     country  Springfield  21:59:46     Friday  \n",
       "\n",
       "[61253 rows x 7 columns]"
      ]
     },
     "execution_count": 20,
     "metadata": {},
     "output_type": "execute_result"
    }
   ],
   "source": [
    "wrong_genre = ['hip', 'hop', 'hip-hop']\n",
    "correct_genre = 'hiphop'\n",
    "replace_wrong_genres(wrong_genre, correct_genre)\n",
    "\n",
    "\n",
    "# Eliminar duplicados implícitos\n"
   ]
  },
  {
   "cell_type": "markdown",
   "metadata": {},
   "source": [
    "<div class=\"alert alert-block alert-success\">\n",
    "<b>Comentario del revisor</b> <a class=\"tocSkip\"></a>\n",
    "    \n",
    "Buen trabajo construyendo y aplicando la función.  <div>"
   ]
  },
  {
   "cell_type": "markdown",
   "metadata": {
    "id": "zQKF16_RG15m"
   },
   "source": [
    "Asegúrate de que los nombres duplicados han sido eliminados. Muestra la lista de valores únicos de la columna `'genre'` una vez más:"
   ]
  },
  {
   "cell_type": "code",
   "execution_count": 21,
   "metadata": {
    "id": "wvixALnFG15m"
   },
   "outputs": [
    {
     "name": "stdout",
     "output_type": "stream",
     "text": [
      "['acid' 'acoustic' 'action' 'adult' 'africa' 'afrikaans' 'alternative'\n",
      " 'ambient' 'americana' 'animated' 'anime' 'arabesk' 'arabic' 'arena'\n",
      " 'argentinetango' 'art' 'audiobook' 'avantgarde' 'axé' 'baile' 'balkan'\n",
      " 'beats' 'bigroom' 'black' 'bluegrass' 'blues' 'bollywood' 'bossa'\n",
      " 'brazilian' 'breakbeat' 'breaks' 'broadway' 'cantautori' 'cantopop'\n",
      " 'canzone' 'caribbean' 'caucasian' 'celtic' 'chamber' 'children' 'chill'\n",
      " 'chinese' 'choral' 'christian' 'christmas' 'classical' 'classicmetal'\n",
      " 'club' 'colombian' 'comedy' 'conjazz' 'contemporary' 'country' 'cuban'\n",
      " 'dance' 'dancehall' 'dancepop' 'dark' 'death' 'deep' 'deutschrock'\n",
      " 'deutschspr' 'dirty' 'disco' 'dnb' 'documentary' 'downbeat' 'downtempo'\n",
      " 'drum' 'dub' 'dubstep' 'eastern' 'easy' 'electronic' 'electropop' 'emo'\n",
      " 'entehno' 'epicmetal' 'estrada' 'ethnic' 'eurofolk' 'european'\n",
      " 'experimental' 'extrememetal' 'fado' 'film' 'fitness' 'flamenco' 'folk'\n",
      " 'folklore' 'folkmetal' 'folkrock' 'folktronica' 'forró' 'frankreich'\n",
      " 'französisch' 'french' 'funk' 'future' 'gangsta' 'garage' 'german'\n",
      " 'ghazal' 'gitarre' 'glitch' 'gospel' 'gothic' 'grime' 'grunge' 'gypsy'\n",
      " 'handsup' \"hard'n'heavy\" 'hardcore' 'hardstyle' 'hardtechno' 'hip'\n",
      " 'hip-hop' 'hiphop' 'historisch' 'holiday' 'hop' 'horror' 'house' 'idm'\n",
      " 'independent' 'indian' 'indie' 'indipop' 'industrial' 'inspirational'\n",
      " 'instrumental' 'international' 'irish' 'jam' 'japanese' 'jazz' 'jewish'\n",
      " 'jpop' 'jungle' 'k-pop' 'karadeniz' 'karaoke' 'kayokyoku' 'korean'\n",
      " 'laiko' 'latin' 'latino' 'leftfield' 'local' 'lounge' 'loungeelectronic'\n",
      " 'lovers' 'malaysian' 'mandopop' 'marschmusik' 'meditative'\n",
      " 'mediterranean' 'melodic' 'metal' 'metalcore' 'mexican' 'middle'\n",
      " 'minimal' 'miscellaneous' 'modern' 'mood' 'mpb' 'muslim' 'native'\n",
      " 'neoklassik' 'neue' 'new' 'newage' 'newwave' 'nu' 'nujazz' 'numetal'\n",
      " 'oceania' 'old' 'opera' 'orchestral' 'other' 'piano' 'pop'\n",
      " 'popelectronic' 'popeurodance' 'post' 'posthardcore' 'postrock' 'power'\n",
      " 'progmetal' 'progressive' 'psychedelic' 'punjabi' 'punk' 'quebecois'\n",
      " 'ragga' 'ram' 'rancheras' 'rap' 'rave' 'reggae' 'reggaeton' 'regional'\n",
      " 'relax' 'religious' 'retro' 'rhythm' 'rnb' 'rnr' 'rock' 'rockabilly'\n",
      " 'romance' 'roots' 'ruspop' 'rusrap' 'rusrock' 'salsa' 'samba' 'schlager'\n",
      " 'self' 'sertanejo' 'shoegazing' 'showtunes' 'singer' 'ska' 'slow'\n",
      " 'smooth' 'soul' 'soulful' 'sound' 'soundtrack' 'southern' 'specialty'\n",
      " 'speech' 'spiritual' 'sport' 'stonerrock' 'surf' 'swing' 'synthpop'\n",
      " 'sängerportrait' 'tango' 'tanzorchester' 'taraftar' 'tech' 'techno'\n",
      " 'thrash' 'top' 'traditional' 'tradjazz' 'trance' 'tribal' 'trip'\n",
      " 'triphop' 'tropical' 'türk' 'türkçe' 'unknown' 'urban' 'uzbek' 'variété'\n",
      " 'vi' 'videogame' 'vocal' 'western' 'world' 'worldbeat' 'ïîï']\n"
     ]
    }
   ],
   "source": [
    "print(df['genre'].sort_values().unique())\n",
    "# Comprobación de duplicados implícitos\n"
   ]
  },
  {
   "cell_type": "markdown",
   "metadata": {},
   "source": [
    "<div class=\"alert alert-block alert-danger\">\n",
    "<b>Comentario del revisor</b> <a class=\"tocSkip\"></a>\n",
    "    \n",
    "Nuevamente, ten en cuenta que el ideal es poder mostrar los valores únicos de la columna ordenados alfabéticamente. <div>"
   ]
  },
  {
   "cell_type": "markdown",
   "metadata": {
    "id": "ALgNbvF3VtPA"
   },
   "source": [
    "[Volver a Contenidos](#back)"
   ]
  },
  {
   "cell_type": "markdown",
   "metadata": {
    "id": "jz6a9-7HQUDd"
   },
   "source": [
    "### Tus observaciones <a id='data_preprocessing_conclusions'></a>\n",
    "\n",
    "`Describe brevemente lo que has notado al analizar duplicados, cómo abordaste sus eliminaciones y qué resultados obtuviste.`\n",
    "- Al utilizar el método unique() para identificar duplicados implícitos, cuando se tiene tanta información no es tan facil de leer para encontrarlos.\n",
    "- Para eliminar los duplicados explícitos utilicé el método drop_duplicates().\n",
    "- Para reemplazar los duplicados implícitos cree una nueva función."
   ]
  },
  {
   "cell_type": "markdown",
   "metadata": {
    "id": "eK1es74rVujj"
   },
   "source": [
    "[Volver a Contenidos](#back)"
   ]
  },
  {
   "cell_type": "markdown",
   "metadata": {
    "id": "WttZHXH0SqKk"
   },
   "source": [
    "## Etapa 3. Prueba de hipótesis <a id='hypothesis'></a>"
   ]
  },
  {
   "cell_type": "markdown",
   "metadata": {
    "id": "Im936VVi_Zcu"
   },
   "source": [
    "### Hipótesis: comparar el comportamiento del usuario o la usuaria en las dos ciudades <a id='activity'></a>"
   ]
  },
  {
   "cell_type": "markdown",
   "metadata": {
    "id": "nwt_MuaL_Zcu"
   },
   "source": [
    "La hipótesis afirma que existen diferencias en la forma en que los usuarios y las usuarias de Springfield y Shelbyville consumen música. Para comprobar esto, usa los datos de tres días de la semana: lunes, miércoles y viernes.\n",
    "\n",
    "* Agrupa a los usuarios y las usuarias por ciudad.\n",
    "* Compara el número de canciones que cada grupo reprodujo el lunes, el miércoles y el viernes.\n"
   ]
  },
  {
   "cell_type": "markdown",
   "metadata": {
    "id": "8Dw_YMmT_Zcu"
   },
   "source": [
    "Realiza cada cálculo por separado.\n",
    "\n",
    "El primer paso es evaluar la actividad del usuario en cada ciudad. Recuerda las etapas dividir-aplicar-combinar de las que hablamos anteriormente en la lección. Tu objetivo ahora es agrupar los datos por ciudad, aplicar el método apropiado para contar durante la etapa de aplicación y luego encontrar la cantidad de canciones reproducidas en cada grupo especificando la columna para obtener el recuento.\n",
    "\n",
    "A continuación se muestra un ejemplo de cómo debería verse el resultado final:\n",
    "`df.groupby(by='....')['column'].method()`Realiza cada cálculo por separado.\n",
    "\n",
    "Para evaluar la actividad de los usuarios y las usuarias en cada ciudad, agrupa los datos por ciudad y encuentra la cantidad de canciones reproducidas en cada grupo.\n",
    "\n"
   ]
  },
  {
   "cell_type": "code",
   "execution_count": 25,
   "metadata": {
    "id": "0_Qs96oh_Zcu"
   },
   "outputs": [
    {
     "name": "stdout",
     "output_type": "stream",
     "text": [
      "city\n",
      "Shelbyville    18512\n",
      "Springfield    42741\n",
      "Name: user_id, dtype: int64\n"
     ]
    }
   ],
   "source": [
    "by_city = df.groupby('city')['user_id'].count()\n",
    "print(by_city) \n",
    "\n",
    "# Contar las canciones reproducidas en cada ciudad\n"
   ]
  },
  {
   "cell_type": "markdown",
   "metadata": {
    "id": "t_Qx-3NewAnK"
   },
   "source": [
    "`En Springfield escuchan 230% más musica que en Shelbyville`"
   ]
  },
  {
   "cell_type": "markdown",
   "metadata": {
    "id": "dzli3w8o_Zcu"
   },
   "source": [
    "Ahora agrupemos los datos por día de la semana y encontremos el número de canciones reproducidas el lunes, miércoles y viernes. Utiliza el mismo método que antes, pero ahora necesitamos una agrupación diferente.\n"
   ]
  },
  {
   "cell_type": "code",
   "execution_count": 34,
   "metadata": {
    "id": "uZMKjiJz_Zcu"
   },
   "outputs": [
    {
     "name": "stdout",
     "output_type": "stream",
     "text": [
      "day\n",
      "Friday       21840\n",
      "Monday       21354\n",
      "Wednesday    18059\n",
      "Name: user_id, dtype: int64\n"
     ]
    }
   ],
   "source": [
    "by_day = df.groupby('day')['user_id'].count()\n",
    "print(by_day) # Calcular las canciones reproducidas en cada uno de los tres días\n"
   ]
  },
  {
   "cell_type": "markdown",
   "metadata": {},
   "source": [
    "<div class=\"alert alert-block alert-success\">\n",
    "<b>Comentario del revisor</b> <a class=\"tocSkip\"></a>\n",
    "    \n",
    "Perfecto, buen trabajo construyendo las dos tablas agrupadas. <div>"
   ]
  },
  {
   "cell_type": "markdown",
   "metadata": {
    "id": "cC2tNrlL_Zcu"
   },
   "source": [
    "`El viernes es el días de la semana que más musica escuchan los usuarios y los miércoles el día que menos`"
   ]
  },
  {
   "cell_type": "markdown",
   "metadata": {
    "id": "POzs8bGa_Zcu"
   },
   "source": [
    "Ya sabes cómo contar entradas agrupándolas por ciudad o día. Ahora necesitas escribir una función que pueda contar entradas según ambos criterios simultáneamente.\n",
    "\n",
    "Crea la función `number_tracks()` para calcular el número de canciones reproducidas en un determinado día **y** ciudad. La función debe aceptar dos parámetros:\n",
    "\n",
    "- `day`: un día de la semana para filtrar. Por ejemplo, `'Monday'` (lunes).\n",
    "- `city`: una ciudad para filtrar. Por ejemplo, `'Springfield'`.\n",
    "\n",
    "Dentro de la función, aplicarás un filtrado consecutivo con indexación lógica.\n",
    "\n",
    "Primero filtra los datos por día y luego filtra la tabla resultante por ciudad.\n",
    "\n",
    "Después de filtrar los datos por dos criterios, cuenta el número de valores de la columna 'user_id' en la tabla resultante. Este recuento representa el número de entradas que estás buscando. Guarda el resultado en una nueva variable y devuélvelo desde la función."
   ]
  },
  {
   "cell_type": "code",
   "execution_count": 27,
   "metadata": {
    "id": "Nz3GdQB1_Zcu"
   },
   "outputs": [],
   "source": [
    "def number_tracks(day, city): # Declara la función number_tracks() con dos parámetros: day= y city=.\n",
    "    day_filtered = df[df['day'] == day] # Almacena las filas del DataFrame donde el valor en la columna 'day' es igual al parámetro day=\n",
    "    city_filtered = day_filtered[day_filtered['city'] == city] # Filtra las filas donde el valor en la columna 'city' es igual al parámetro city=\n",
    "    users_filtered = city_filtered['user_id'].count() # Extrae la columna 'user_id' de la tabla filtrada y aplica el método count()\n",
    "    return(users_filtered) # Devolve el número de valores de la columna 'user_id'"
   ]
  },
  {
   "cell_type": "markdown",
   "metadata": {
    "id": "ytf7xFrFJQ2r"
   },
   "source": [
    "Llama a `number_tracks()` seis veces, cambiando los valores de los parámetros para que recuperes los datos de ambas ciudades para cada uno de los tres días."
   ]
  },
  {
   "cell_type": "code",
   "execution_count": 28,
   "metadata": {
    "id": "rJcRATNQ_Zcu"
   },
   "outputs": [
    {
     "name": "stdout",
     "output_type": "stream",
     "text": [
      "15740\n"
     ]
    }
   ],
   "source": [
    "day = 'Monday'\n",
    "city = 'Springfield' \n",
    "df_filtered = number_tracks(day, city) # El número de canciones reproducidas en Springfield el lunes\n",
    "print(df_filtered)"
   ]
  },
  {
   "cell_type": "code",
   "execution_count": 29,
   "metadata": {
    "id": "hq_ncZ5T_Zcu"
   },
   "outputs": [
    {
     "name": "stdout",
     "output_type": "stream",
     "text": [
      "5614\n"
     ]
    }
   ],
   "source": [
    "day = 'Monday'\n",
    "city = 'Shelbyville' \n",
    "df_filtered = number_tracks(day, city) \n",
    "print(df_filtered)# El número de canciones reproducidas en Shelbyville el lunes\n"
   ]
  },
  {
   "cell_type": "code",
   "execution_count": 30,
   "metadata": {
    "id": "_NTy2VPU_Zcu"
   },
   "outputs": [
    {
     "name": "stdout",
     "output_type": "stream",
     "text": [
      "11056\n"
     ]
    }
   ],
   "source": [
    "day = 'Wednesday'\n",
    "city = 'Springfield' \n",
    "df_filtered = number_tracks(day, city) \n",
    "print(df_filtered)# El número de canciones reproducidas en Springfield el miércoles\n"
   ]
  },
  {
   "cell_type": "code",
   "execution_count": 31,
   "metadata": {
    "id": "j2y3TAwo_Zcu"
   },
   "outputs": [
    {
     "name": "stdout",
     "output_type": "stream",
     "text": [
      "7003\n"
     ]
    }
   ],
   "source": [
    "day = 'Wednesday'\n",
    "city = 'Shelbyville' \n",
    "df_filtered = number_tracks(day, city) \n",
    "print(df_filtered)# El número de canciones reproducidas en Shelbyville el miércoles\n"
   ]
  },
  {
   "cell_type": "code",
   "execution_count": 32,
   "metadata": {
    "id": "vYDw5u_K_Zcu"
   },
   "outputs": [
    {
     "name": "stdout",
     "output_type": "stream",
     "text": [
      "15945\n"
     ]
    }
   ],
   "source": [
    "day = 'Friday'\n",
    "city = 'Springfield' \n",
    "df_filtered = number_tracks(day, city) \n",
    "print(df_filtered)# El número de canciones reproducidas en Springfield el viernes\n"
   ]
  },
  {
   "cell_type": "code",
   "execution_count": 33,
   "metadata": {
    "id": "8_yzFtW3_Zcu"
   },
   "outputs": [
    {
     "name": "stdout",
     "output_type": "stream",
     "text": [
      "5895\n"
     ]
    }
   ],
   "source": [
    "day = 'Friday'\n",
    "city = 'Shelbyville' \n",
    "df_filtered = number_tracks(day, city) \n",
    "print(df_filtered)# El número de canciones reproducidas en Shelbyville el viernes\n"
   ]
  },
  {
   "cell_type": "markdown",
   "metadata": {
    "id": "-EgPIHYu_Zcu"
   },
   "source": [
    "**Conclusiones**\n",
    "\n",
    "`Comenta si la hipótesis es correcta o se debe rechazar. Explica tu razonamiento.`\n",
    "`La hipotesis \"La actividad de los usuarios y las usuarias difiere según el día de la semana y dependiendo de la ciudad\" es correcta. \n",
    "La actividad de los usuarios varia mucho entre una ciudad y la otra, como mencioné anteriormente en Springfield la actividad es 230% más alta que en Shelbyville. Respecto a los días analisados (lunes, miércoles y viernes) también se observa que la actividad varia entre estos.`"
   ]
  },
  {
   "cell_type": "markdown",
   "metadata": {},
   "source": [
    "<div class=\"alert alert-block alert-success\">\n",
    "<b>Comentario del revisor</b> <a class=\"tocSkip\"></a>\n",
    "    \n",
    "Buen trabajo construyendo y aplicando la función para los diferentes casos Maria.  <div>"
   ]
  },
  {
   "cell_type": "markdown",
   "metadata": {
    "id": "p7nFQajCVw5B"
   },
   "source": [
    "[Volver a Contenidos](#back)"
   ]
  },
  {
   "cell_type": "markdown",
   "metadata": {
    "id": "ykKQ0N65_Zcv"
   },
   "source": [
    "# Conclusiones <a id='end'></a>"
   ]
  },
  {
   "cell_type": "markdown",
   "metadata": {
    "id": "tjUwbHb3_Zcv"
   },
   "source": [
    "`Resume aquí tus conclusiones sobre la hipótesis.`\n",
    "`En ambas ciudades se observa que la actividad los lunes y viernes es muy similar. Sin embargo, en Shelbyville la actividad es mayor los miércoles  y en Springfield es menor.`"
   ]
  },
  {
   "cell_type": "markdown",
   "metadata": {
    "id": "azLHu64yOIp7"
   },
   "source": [
    "### Nota\n",
    "En proyectos de investigación reales, la prueba de hipótesis estadística es más precisa y cuantitativa. También ten en cuenta que no siempre se pueden sacar conclusiones sobre una ciudad entera a partir de datos de una sola fuente.\n",
    "\n",
    "Aprenderás más sobre la prueba de hipótesis en el sprint de análisis estadístico de datos."
   ]
  },
  {
   "cell_type": "markdown",
   "metadata": {
    "id": "Ju4AHDSgV1FE"
   },
   "source": [
    "[Volver a Contenidos](#back)"
   ]
  }
 ],
 "metadata": {
  "ExecuteTimeLog": [
   {
    "duration": 445,
    "start_time": "2024-06-26T17:03:32.766Z"
   },
   {
    "duration": 184,
    "start_time": "2024-06-26T17:04:16.199Z"
   },
   {
    "duration": 13,
    "start_time": "2024-06-26T17:05:14.667Z"
   },
   {
    "duration": 41,
    "start_time": "2024-06-26T17:05:35.174Z"
   },
   {
    "duration": 343,
    "start_time": "2024-06-26T18:27:09.469Z"
   },
   {
    "duration": 26,
    "start_time": "2024-06-26T18:27:44.206Z"
   },
   {
    "duration": 1459,
    "start_time": "2024-06-26T18:28:40.256Z"
   },
   {
    "duration": 193,
    "start_time": "2024-06-26T18:29:16.443Z"
   },
   {
    "duration": 245,
    "start_time": "2024-06-26T18:33:30.093Z"
   },
   {
    "duration": 246,
    "start_time": "2024-06-26T18:34:01.210Z"
   },
   {
    "duration": 185,
    "start_time": "2024-06-26T18:36:25.798Z"
   },
   {
    "duration": 256,
    "start_time": "2024-06-26T18:38:42.805Z"
   },
   {
    "duration": 179,
    "start_time": "2024-06-26T18:39:08.056Z"
   },
   {
    "duration": 265,
    "start_time": "2024-06-26T18:40:29.553Z"
   },
   {
    "duration": 188,
    "start_time": "2024-06-26T18:42:22.841Z"
   },
   {
    "duration": 171,
    "start_time": "2024-06-26T18:42:41.881Z"
   },
   {
    "duration": 22,
    "start_time": "2024-06-26T18:47:34.867Z"
   },
   {
    "duration": 6,
    "start_time": "2024-06-26T18:48:22.184Z"
   },
   {
    "duration": 6,
    "start_time": "2024-06-26T18:49:42.036Z"
   },
   {
    "duration": 9,
    "start_time": "2024-06-26T18:50:31.597Z"
   },
   {
    "duration": 5,
    "start_time": "2024-06-26T18:52:01.784Z"
   },
   {
    "duration": 31,
    "start_time": "2024-06-26T18:53:18.847Z"
   },
   {
    "duration": 47,
    "start_time": "2024-06-26T18:58:29.084Z"
   },
   {
    "duration": 30,
    "start_time": "2024-06-26T18:58:52.572Z"
   },
   {
    "duration": 48,
    "start_time": "2024-06-26T18:58:57.126Z"
   },
   {
    "duration": 105,
    "start_time": "2024-06-26T19:01:43.913Z"
   },
   {
    "duration": 126,
    "start_time": "2024-06-26T19:03:32.531Z"
   },
   {
    "duration": 80,
    "start_time": "2024-06-26T19:03:43.101Z"
   },
   {
    "duration": 7,
    "start_time": "2024-06-26T19:03:59.561Z"
   },
   {
    "duration": 73,
    "start_time": "2024-06-26T19:04:06.989Z"
   },
   {
    "duration": 11,
    "start_time": "2024-06-26T19:05:54.811Z"
   },
   {
    "duration": 25,
    "start_time": "2024-06-26T19:19:06.163Z"
   },
   {
    "duration": 5,
    "start_time": "2024-06-26T19:19:23.063Z"
   },
   {
    "duration": 33,
    "start_time": "2024-06-26T19:21:16.469Z"
   },
   {
    "duration": 35,
    "start_time": "2024-06-26T19:24:27.738Z"
   },
   {
    "duration": 40,
    "start_time": "2024-06-26T19:26:03.756Z"
   },
   {
    "duration": 326,
    "start_time": "2024-06-26T22:16:16.342Z"
   },
   {
    "duration": 27,
    "start_time": "2024-06-26T22:16:34.021Z"
   },
   {
    "duration": 668,
    "start_time": "2024-06-26T22:18:04.964Z"
   },
   {
    "duration": 176,
    "start_time": "2024-06-26T22:18:19.157Z"
   },
   {
    "duration": 173,
    "start_time": "2024-06-26T22:20:53.445Z"
   },
   {
    "duration": 27,
    "start_time": "2024-06-26T22:21:02.664Z"
   },
   {
    "duration": 21,
    "start_time": "2024-06-26T22:21:14.860Z"
   },
   {
    "duration": 8,
    "start_time": "2024-06-26T22:21:30.245Z"
   },
   {
    "duration": 19,
    "start_time": "2024-06-26T22:22:26.324Z"
   },
   {
    "duration": 7,
    "start_time": "2024-06-26T22:22:36.215Z"
   },
   {
    "duration": 627,
    "start_time": "2024-06-27T09:58:56.657Z"
   },
   {
    "duration": 166,
    "start_time": "2024-06-27T09:59:15.897Z"
   },
   {
    "duration": 343,
    "start_time": "2024-06-27T09:59:26.079Z"
   },
   {
    "duration": 23,
    "start_time": "2024-06-27T10:00:05.280Z"
   },
   {
    "duration": 32,
    "start_time": "2024-06-27T10:00:37.540Z"
   },
   {
    "duration": 833,
    "start_time": "2024-06-27T10:01:32.762Z"
   },
   {
    "duration": 21,
    "start_time": "2024-06-27T10:01:56.247Z"
   },
   {
    "duration": 10,
    "start_time": "2024-06-27T10:02:04.487Z"
   },
   {
    "duration": 157,
    "start_time": "2024-06-27T10:11:50.865Z"
   },
   {
    "duration": 9,
    "start_time": "2024-06-27T10:12:15.103Z"
   },
   {
    "duration": 229,
    "start_time": "2024-06-27T10:13:49.920Z"
   },
   {
    "duration": 158,
    "start_time": "2024-06-27T10:18:02.472Z"
   },
   {
    "duration": 22,
    "start_time": "2024-06-27T10:19:06.839Z"
   },
   {
    "duration": 13,
    "start_time": "2024-06-27T10:19:21.540Z"
   },
   {
    "duration": 7,
    "start_time": "2024-06-27T10:19:33.742Z"
   },
   {
    "duration": 159,
    "start_time": "2024-06-27T10:21:19.513Z"
   },
   {
    "duration": 63,
    "start_time": "2024-06-27T10:21:23.266Z"
   },
   {
    "duration": 8,
    "start_time": "2024-06-27T10:21:27.344Z"
   },
   {
    "duration": 167,
    "start_time": "2024-06-27T10:21:56.994Z"
   },
   {
    "duration": 67,
    "start_time": "2024-06-27T10:21:59.577Z"
   },
   {
    "duration": 8,
    "start_time": "2024-06-27T10:22:02.647Z"
   },
   {
    "duration": 166,
    "start_time": "2024-06-27T10:23:19.524Z"
   },
   {
    "duration": 162,
    "start_time": "2024-06-27T10:23:22.234Z"
   },
   {
    "duration": 61,
    "start_time": "2024-06-27T10:23:25.528Z"
   },
   {
    "duration": 10,
    "start_time": "2024-06-27T10:23:29.261Z"
   },
   {
    "duration": 154,
    "start_time": "2024-06-27T10:24:05.146Z"
   },
   {
    "duration": 35,
    "start_time": "2024-06-27T10:24:10.626Z"
   },
   {
    "duration": 162,
    "start_time": "2024-06-27T10:24:21.415Z"
   },
   {
    "duration": 90,
    "start_time": "2024-06-27T10:24:23.763Z"
   },
   {
    "duration": 8,
    "start_time": "2024-06-27T10:24:31.869Z"
   },
   {
    "duration": 59,
    "start_time": "2024-06-27T10:25:08.554Z"
   },
   {
    "duration": 6,
    "start_time": "2024-06-27T10:25:58.846Z"
   },
   {
    "duration": 77,
    "start_time": "2024-06-27T10:26:05.720Z"
   },
   {
    "duration": 5,
    "start_time": "2024-06-27T10:26:17.938Z"
   },
   {
    "duration": 23,
    "start_time": "2024-06-27T10:26:22.261Z"
   },
   {
    "duration": 6,
    "start_time": "2024-06-27T10:27:00.949Z"
   },
   {
    "duration": 92,
    "start_time": "2024-06-27T10:27:08.104Z"
   },
   {
    "duration": 24,
    "start_time": "2024-06-27T10:27:44.056Z"
   },
   {
    "duration": 60,
    "start_time": "2024-06-27T10:28:03.582Z"
   },
   {
    "duration": 8,
    "start_time": "2024-06-27T10:28:06.955Z"
   },
   {
    "duration": 7,
    "start_time": "2024-06-27T10:44:24.766Z"
   },
   {
    "duration": 7,
    "start_time": "2024-06-27T10:46:06.990Z"
   },
   {
    "duration": 514,
    "start_time": "2024-06-27T10:48:26.823Z"
   },
   {
    "duration": 79,
    "start_time": "2024-06-27T10:48:58.736Z"
   },
   {
    "duration": 83,
    "start_time": "2024-06-27T10:51:22.676Z"
   },
   {
    "duration": 96,
    "start_time": "2024-06-27T10:53:21.709Z"
   },
   {
    "duration": 82,
    "start_time": "2024-06-27T10:54:31.626Z"
   },
   {
    "duration": 80,
    "start_time": "2024-06-27T10:55:38.840Z"
   },
   {
    "duration": 78,
    "start_time": "2024-06-27T10:56:05.711Z"
   },
   {
    "duration": 78,
    "start_time": "2024-06-27T10:57:00.259Z"
   },
   {
    "duration": 82,
    "start_time": "2024-06-27T10:57:08.804Z"
   },
   {
    "duration": 77,
    "start_time": "2024-06-27T10:57:13.477Z"
   },
   {
    "duration": 83,
    "start_time": "2024-06-27T10:58:42.309Z"
   },
   {
    "duration": 78,
    "start_time": "2024-06-27T10:59:47.956Z"
   },
   {
    "duration": 78,
    "start_time": "2024-06-27T11:00:18.281Z"
   },
   {
    "duration": 4,
    "start_time": "2024-06-27T11:01:34.266Z"
   },
   {
    "duration": 60,
    "start_time": "2024-06-27T11:01:38.275Z"
   },
   {
    "duration": 8,
    "start_time": "2024-06-27T11:01:41.370Z"
   },
   {
    "duration": 86,
    "start_time": "2024-06-27T11:01:48.519Z"
   },
   {
    "duration": 86,
    "start_time": "2024-06-27T11:04:31.663Z"
   },
   {
    "duration": 77,
    "start_time": "2024-06-27T11:05:29.181Z"
   },
   {
    "duration": 79,
    "start_time": "2024-06-27T11:09:33.094Z"
   },
   {
    "duration": 80,
    "start_time": "2024-06-27T11:13:50.977Z"
   },
   {
    "duration": 98,
    "start_time": "2024-06-27T11:16:46.558Z"
   },
   {
    "duration": 5,
    "start_time": "2024-06-27T11:27:30.239Z"
   },
   {
    "duration": 95,
    "start_time": "2024-06-27T11:30:26.837Z"
   },
   {
    "duration": 83,
    "start_time": "2024-06-27T11:32:18.754Z"
   },
   {
    "duration": 83,
    "start_time": "2024-06-27T11:35:04.594Z"
   },
   {
    "duration": 347,
    "start_time": "2024-06-27T14:34:09.938Z"
   },
   {
    "duration": 10,
    "start_time": "2024-06-27T15:02:21.109Z"
   },
   {
    "duration": 316,
    "start_time": "2024-06-27T15:03:13.077Z"
   },
   {
    "duration": 32,
    "start_time": "2024-06-27T15:04:06.054Z"
   },
   {
    "duration": 463,
    "start_time": "2024-06-27T15:10:28.182Z"
   },
   {
    "duration": 194,
    "start_time": "2024-06-27T15:10:30.506Z"
   },
   {
    "duration": 11,
    "start_time": "2024-06-27T15:10:32.541Z"
   },
   {
    "duration": 37,
    "start_time": "2024-06-27T15:10:37.291Z"
   },
   {
    "duration": 6,
    "start_time": "2024-06-27T15:10:43.309Z"
   },
   {
    "duration": 7,
    "start_time": "2024-06-27T15:11:17.861Z"
   },
   {
    "duration": 6,
    "start_time": "2024-06-27T15:11:46.699Z"
   },
   {
    "duration": 7,
    "start_time": "2024-06-27T15:11:53.368Z"
   },
   {
    "duration": 5,
    "start_time": "2024-06-27T15:11:59.247Z"
   },
   {
    "duration": 6,
    "start_time": "2024-06-27T15:12:28.132Z"
   },
   {
    "duration": 4,
    "start_time": "2024-06-27T15:12:48.648Z"
   },
   {
    "duration": 5,
    "start_time": "2024-06-27T15:12:51.070Z"
   },
   {
    "duration": 25,
    "start_time": "2024-06-27T15:12:59.235Z"
   },
   {
    "duration": 15,
    "start_time": "2024-06-27T15:13:14.284Z"
   },
   {
    "duration": 31,
    "start_time": "2024-06-27T15:13:18.264Z"
   },
   {
    "duration": 74,
    "start_time": "2024-06-27T15:13:23.056Z"
   },
   {
    "duration": 94,
    "start_time": "2024-06-27T15:13:29.409Z"
   },
   {
    "duration": 98,
    "start_time": "2024-06-27T15:13:32.028Z"
   },
   {
    "duration": 9,
    "start_time": "2024-06-27T15:13:36.786Z"
   },
   {
    "duration": 5,
    "start_time": "2024-06-27T15:13:42.632Z"
   },
   {
    "duration": 58,
    "start_time": "2024-06-27T15:13:47.732Z"
   },
   {
    "duration": 14,
    "start_time": "2024-06-27T15:14:01.304Z"
   },
   {
    "duration": 34,
    "start_time": "2024-06-27T15:14:04.424Z"
   },
   {
    "duration": 4,
    "start_time": "2024-06-27T15:14:30.249Z"
   },
   {
    "duration": 32,
    "start_time": "2024-06-27T15:14:49.414Z"
   },
   {
    "duration": 3,
    "start_time": "2024-06-27T15:15:17.779Z"
   },
   {
    "duration": 32,
    "start_time": "2024-06-27T15:15:20.246Z"
   },
   {
    "duration": 33,
    "start_time": "2024-06-27T15:16:19.442Z"
   },
   {
    "duration": 5,
    "start_time": "2024-06-27T15:16:45.904Z"
   },
   {
    "duration": 32,
    "start_time": "2024-06-27T15:16:48.152Z"
   },
   {
    "duration": 5,
    "start_time": "2024-06-27T15:17:18.119Z"
   },
   {
    "duration": 42,
    "start_time": "2024-06-27T15:17:19.964Z"
   },
   {
    "duration": 27,
    "start_time": "2024-06-27T15:21:24.349Z"
   },
   {
    "duration": 39,
    "start_time": "2024-06-27T15:21:29.385Z"
   },
   {
    "duration": 8,
    "start_time": "2024-06-27T15:21:56.304Z"
   },
   {
    "duration": 36,
    "start_time": "2024-06-27T15:22:02.633Z"
   },
   {
    "duration": 49,
    "start_time": "2024-06-27T15:22:25.164Z"
   },
   {
    "duration": 27,
    "start_time": "2024-06-27T15:22:40.837Z"
   },
   {
    "duration": 4,
    "start_time": "2024-06-27T15:24:13.958Z"
   },
   {
    "duration": 24,
    "start_time": "2024-06-27T15:25:06.456Z"
   },
   {
    "duration": 4,
    "start_time": "2024-06-27T15:25:28.201Z"
   },
   {
    "duration": 41,
    "start_time": "2024-06-27T15:25:30.881Z"
   },
   {
    "duration": 23,
    "start_time": "2024-06-27T15:25:55.698Z"
   },
   {
    "duration": 44,
    "start_time": "2024-06-27T15:26:24.735Z"
   },
   {
    "duration": 5,
    "start_time": "2024-06-27T15:26:35.906Z"
   },
   {
    "duration": 65,
    "start_time": "2024-06-27T15:26:37.976Z"
   },
   {
    "duration": 33,
    "start_time": "2024-06-27T15:26:48.771Z"
   },
   {
    "duration": 3,
    "start_time": "2024-06-27T15:27:04.018Z"
   },
   {
    "duration": 32,
    "start_time": "2024-06-27T15:27:06.019Z"
   },
   {
    "duration": 3,
    "start_time": "2024-06-27T15:27:28.642Z"
   },
   {
    "duration": 33,
    "start_time": "2024-06-27T15:27:31.580Z"
   },
   {
    "duration": 35,
    "start_time": "2024-06-27T15:28:02.505Z"
   },
   {
    "duration": 32,
    "start_time": "2024-06-27T15:28:09.170Z"
   },
   {
    "duration": 4,
    "start_time": "2024-06-27T15:28:26.620Z"
   },
   {
    "duration": 34,
    "start_time": "2024-06-27T15:28:28.287Z"
   },
   {
    "duration": 27,
    "start_time": "2024-06-27T15:29:06.774Z"
   },
   {
    "duration": 4,
    "start_time": "2024-06-27T15:29:20.167Z"
   },
   {
    "duration": 3,
    "start_time": "2024-06-27T15:29:22.266Z"
   },
   {
    "duration": 4,
    "start_time": "2024-06-27T15:29:32.992Z"
   },
   {
    "duration": 33,
    "start_time": "2024-06-27T15:29:34.577Z"
   },
   {
    "duration": 22,
    "start_time": "2024-06-27T15:30:14.450Z"
   },
   {
    "duration": 22,
    "start_time": "2024-06-27T15:30:26.405Z"
   },
   {
    "duration": 22,
    "start_time": "2024-06-27T15:30:30.158Z"
   },
   {
    "duration": 21,
    "start_time": "2024-06-27T15:30:37.406Z"
   },
   {
    "duration": 322,
    "start_time": "2024-07-03T12:33:59.182Z"
   },
   {
    "duration": 455,
    "start_time": "2024-07-03T12:34:14.724Z"
   },
   {
    "duration": 194,
    "start_time": "2024-07-03T12:34:18.398Z"
   },
   {
    "duration": 11,
    "start_time": "2024-07-03T12:34:20.570Z"
   },
   {
    "duration": 33,
    "start_time": "2024-07-03T12:34:24.578Z"
   },
   {
    "duration": 5,
    "start_time": "2024-07-03T12:34:30.197Z"
   },
   {
    "duration": 5,
    "start_time": "2024-07-03T12:36:32.296Z"
   },
   {
    "duration": 5,
    "start_time": "2024-07-03T12:37:03.985Z"
   },
   {
    "duration": 5,
    "start_time": "2024-07-03T12:37:52.115Z"
   },
   {
    "duration": 4,
    "start_time": "2024-07-03T12:38:34.517Z"
   },
   {
    "duration": 26,
    "start_time": "2024-07-03T12:39:21.694Z"
   },
   {
    "duration": 16,
    "start_time": "2024-07-03T12:41:44.845Z"
   },
   {
    "duration": 25,
    "start_time": "2024-07-03T12:41:53.648Z"
   },
   {
    "duration": 73,
    "start_time": "2024-07-03T12:42:49.526Z"
   },
   {
    "duration": 98,
    "start_time": "2024-07-03T12:43:30.206Z"
   },
   {
    "duration": 70,
    "start_time": "2024-07-03T12:43:36.003Z"
   },
   {
    "duration": 10,
    "start_time": "2024-07-03T12:44:35.632Z"
   },
   {
    "duration": 4,
    "start_time": "2024-07-03T12:47:15.550Z"
   },
   {
    "duration": 29,
    "start_time": "2024-07-03T12:47:39.747Z"
   },
   {
    "duration": 22,
    "start_time": "2024-07-03T12:49:16.974Z"
   },
   {
    "duration": 10,
    "start_time": "2024-07-03T12:49:31.693Z"
   },
   {
    "duration": 36,
    "start_time": "2024-07-03T12:52:25.098Z"
   },
   {
    "duration": 9,
    "start_time": "2024-07-03T12:54:30.785Z"
   },
   {
    "duration": 5,
    "start_time": "2024-07-03T12:55:08.442Z"
   },
   {
    "duration": 14,
    "start_time": "2024-07-03T12:55:14.366Z"
   },
   {
    "duration": 15,
    "start_time": "2024-07-03T12:56:14.365Z"
   },
   {
    "duration": 5,
    "start_time": "2024-07-03T12:57:56.984Z"
   },
   {
    "duration": 25,
    "start_time": "2024-07-03T13:00:06.393Z"
   },
   {
    "duration": 22,
    "start_time": "2024-07-03T13:02:51.781Z"
   },
   {
    "duration": 21,
    "start_time": "2024-07-03T13:03:33.368Z"
   },
   {
    "duration": 18,
    "start_time": "2024-07-03T13:03:51.857Z"
   },
   {
    "duration": 24,
    "start_time": "2024-07-03T13:04:05.561Z"
   },
   {
    "duration": 32,
    "start_time": "2024-07-03T13:04:24.427Z"
   },
   {
    "duration": 14,
    "start_time": "2024-07-03T13:13:56.392Z"
   },
   {
    "duration": 327,
    "start_time": "2024-07-04T12:53:36.099Z"
   },
   {
    "duration": 432,
    "start_time": "2024-07-04T12:53:46.049Z"
   },
   {
    "duration": 186,
    "start_time": "2024-07-04T12:53:48.282Z"
   },
   {
    "duration": 15,
    "start_time": "2024-07-04T12:53:50.892Z"
   },
   {
    "duration": 43,
    "start_time": "2024-07-04T12:53:54.596Z"
   },
   {
    "duration": 4,
    "start_time": "2024-07-04T12:54:03.243Z"
   },
   {
    "duration": 5,
    "start_time": "2024-07-04T12:54:06.352Z"
   },
   {
    "duration": 7,
    "start_time": "2024-07-04T12:54:08.749Z"
   },
   {
    "duration": 5,
    "start_time": "2024-07-04T12:54:11.097Z"
   },
   {
    "duration": 4,
    "start_time": "2024-07-04T12:54:13.580Z"
   },
   {
    "duration": 35,
    "start_time": "2024-07-04T12:54:16.666Z"
   },
   {
    "duration": 18,
    "start_time": "2024-07-04T12:54:19.820Z"
   },
   {
    "duration": 25,
    "start_time": "2024-07-04T12:54:22.160Z"
   },
   {
    "duration": 90,
    "start_time": "2024-07-04T12:54:25.330Z"
   },
   {
    "duration": 126,
    "start_time": "2024-07-04T12:54:27.973Z"
   },
   {
    "duration": 72,
    "start_time": "2024-07-04T12:54:30.353Z"
   },
   {
    "duration": 11,
    "start_time": "2024-07-04T12:54:35.193Z"
   },
   {
    "duration": 75,
    "start_time": "2024-07-04T13:00:56.282Z"
   },
   {
    "duration": 63,
    "start_time": "2024-07-04T13:01:08.963Z"
   },
   {
    "duration": 51,
    "start_time": "2024-07-04T13:13:04.711Z"
   },
   {
    "duration": 50,
    "start_time": "2024-07-04T13:13:44.902Z"
   }
  ],
  "colab": {
   "collapsed_sections": [
    "E0vqbgi9ay0H",
    "VUC88oWjTJw2"
   ],
   "provenance": []
  },
  "kernelspec": {
   "display_name": "Python 3 (ipykernel)",
   "language": "python",
   "name": "python3"
  },
  "language_info": {
   "codemirror_mode": {
    "name": "ipython",
    "version": 3
   },
   "file_extension": ".py",
   "mimetype": "text/x-python",
   "name": "python",
   "nbconvert_exporter": "python",
   "pygments_lexer": "ipython3",
   "version": "3.9.19"
  },
  "toc": {
   "base_numbering": 1,
   "nav_menu": {},
   "number_sections": true,
   "sideBar": true,
   "skip_h1_title": true,
   "title_cell": "Table of Contents",
   "title_sidebar": "Contents",
   "toc_cell": false,
   "toc_position": {},
   "toc_section_display": true,
   "toc_window_display": false
  }
 },
 "nbformat": 4,
 "nbformat_minor": 1
}

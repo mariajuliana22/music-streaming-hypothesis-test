{
 "cells": [
  {
   "cell_type": "markdown",
   "id": "c03ef96d",
   "metadata": {},
   "source": [
    "# Preferencias musicales de las ciudades de Springfield y Shelbyville\n",
    "En este proyecto, compararé las preferencias musicales de las ciudades de Springfield y Shelbyville. Estudiaré datos reales de transmisión de música online para probar la hipótesis y comparar el comportamiento de los usuarios y las usuarias de estas dos ciudades.\n",
    "\n",
    "Hipótesis: La actividad de los usuarios y las usuarias difiere según el día de la semana y dependiendo de la ciudad.\n",
    "\n",
    "El proyecto se divide en tres etapas: \n",
    "- Etapa 1: Descripción de los datos.\n",
    "- Etapa 2: Preprocesamiento de datos.\n",
    "- Etapa 3: Prueba de hipótesis.\n",
    "\n",
    "Descripción de las columnas:\n",
    "- 'userID': identifica de forma exclusiva a cada usuario o usuaria;\n",
    "- 'Track': título de la canción;\n",
    "- 'artist': nombre del artista;\n",
    "- 'genre': género musical;\n",
    "- 'City': ciudad del usuario o la usuaria;\n",
    "- 'time': hora del día en la que se reprodujo la pista (HH:MM:SS);\n",
    "- 'Day': día de la semana."
   ]
  },
  {
   "cell_type": "markdown",
   "id": "a0fc2948",
   "metadata": {},
   "source": [
    "# Etapa 1\n",
    "Descripción de los datos"
   ]
  },
  {
   "cell_type": "markdown",
   "id": "5982d3fe",
   "metadata": {},
   "source": [
    "Se importan las librerías que se van a utilizar:"
   ]
  },
  {
   "cell_type": "code",
   "execution_count": 1,
   "id": "455dcb64",
   "metadata": {},
   "outputs": [],
   "source": [
    "import pandas as pd "
   ]
  },
  {
   "cell_type": "markdown",
   "id": "abae446a",
   "metadata": {},
   "source": [
    "Se lee y examina el archivo que contiene los datos: "
   ]
  },
  {
   "cell_type": "code",
   "execution_count": 2,
   "id": "fb2e67e6",
   "metadata": {},
   "outputs": [],
   "source": [
    "df = pd.read_csv('/datasets/music_project_en.csv') # Leer el archivo y almacenarlo en df"
   ]
  },
  {
   "cell_type": "code",
   "execution_count": 4,
   "id": "52326cf2",
   "metadata": {},
   "outputs": [
    {
     "name": "stdout",
     "output_type": "stream",
     "text": [
      "<class 'pandas.core.frame.DataFrame'>\n",
      "RangeIndex: 65079 entries, 0 to 65078\n",
      "Data columns (total 7 columns):\n",
      " #   Column    Non-Null Count  Dtype \n",
      "---  ------    --------------  ----- \n",
      " 0     userID  65079 non-null  object\n",
      " 1   Track     63736 non-null  object\n",
      " 2   artist    57512 non-null  object\n",
      " 3   genre     63881 non-null  object\n",
      " 4     City    65079 non-null  object\n",
      " 5   time      65079 non-null  object\n",
      " 6   Day       65079 non-null  object\n",
      "dtypes: object(7)\n",
      "memory usage: 3.5+ MB\n"
     ]
    }
   ],
   "source": [
    "df.info() # Obtener la información general de los datos"
   ]
  },
  {
   "cell_type": "markdown",
   "id": "0a374973",
   "metadata": {},
   "source": [
    "La tabla contiene siete columnas. Hay valores ausentes en 'Track', 'artist' y 'genre'. Almacenan los mismos tipos de datos: object.\n",
    "\n",
    "Se pueden ver tres problemas con el estilo en los encabezados de la tabla:\n",
    "1. Algunos encabezados están en mayúsculas, otros en minúsculas.\n",
    "2. Hay espacios en algunos encabezados.\n",
    "3. userID no está en formato snake_case."
   ]
  },
  {
   "cell_type": "markdown",
   "id": "2460644b",
   "metadata": {},
   "source": [
    "# Etapa 2\n",
    "Preparar los datos para que sean analizados"
   ]
  },
  {
   "cell_type": "markdown",
   "id": "6576fbfc",
   "metadata": {},
   "source": [
    "Cambio de los encabezados de la tabla de acuerdo con las reglas del buen estilo:"
   ]
  },
  {
   "cell_type": "code",
   "execution_count": 9,
   "id": "425220b5",
   "metadata": {},
   "outputs": [],
   "source": [
    "#Utilizo el bucle for para iterar sobre los nombres de las columnas\n",
    "new_col_names = []\n",
    "\n",
    "for old_name in df.columns:\n",
    "    name_lowered = old_name.lower() #Todos los caracteres en minúsculas\n",
    "    name_stripped  = name_lowered.strip() #Elimina los espacios al principio y al final de los nombres\n",
    "    new_col_names.append(name_stripped)\n",
    "\n",
    "df.columns = new_col_names"
   ]
  },
  {
   "cell_type": "code",
   "execution_count": 10,
   "id": "2cbbb685",
   "metadata": {},
   "outputs": [],
   "source": [
    "#Aplicar la regla de snake_case a la columna userid\n",
    "columns_new={'userid':'user_id'} \n",
    "\n",
    "df.rename(columns=columns_new, inplace=True)"
   ]
  },
  {
   "cell_type": "code",
   "execution_count": 11,
   "id": "63d76069",
   "metadata": {},
   "outputs": [
    {
     "data": {
      "text/plain": [
       "Index(['user_id', 'track', 'artist', 'genre', 'city', 'time', 'day'], dtype='object')"
      ]
     },
     "execution_count": 11,
     "metadata": {},
     "output_type": "execute_result"
    }
   ],
   "source": [
    "#Resultado final con los nombre de las columnas corregidos\n",
    "df.columns "
   ]
  },
  {
   "cell_type": "markdown",
   "id": "04bc815a",
   "metadata": {},
   "source": [
    "Los valores ausentes en 'track' y 'artist' no son cruciales. Así que se van a reemplazar por 'unknown'. \n",
    "\n",
    "Pero los valores ausentes en 'genre' pueden afectar la comparación entre las preferencias musicales de Springfield y Shelbyville, sería útil saber las razones por las cuales hay datos ausentes e intentar recuperarlos. Sin embargo, no se tiene esa posibilidad en este este proyecto. Por esto se van a rellenar estos valores ausentes con el valor predeterminado 'unknown'.\n",
    "\n",
    "Reemplazar los valores ausentes en las columnas 'track', 'artist' y 'genre' con el string 'unknown'. Como mostramos anteriormente en las lecciones, la mejor forma de hacerlo es crear una lista que almacene los nombres de las columnas donde se necesita el reemplazo. Luego, utiliza esta lista e itera sobre las columnas donde se necesita el reemplazo haciendo el propio reemplazo."
   ]
  },
  {
   "cell_type": "markdown",
   "id": "0c98531c",
   "metadata": {},
   "source": [
    "Reemplazo los valores ausentes en las columnas 'track', 'artist' y 'genre' con el string 'unknown':"
   ]
  },
  {
   "cell_type": "code",
   "execution_count": 18,
   "id": "3d56412c",
   "metadata": {},
   "outputs": [
    {
     "data": {
      "text/plain": [
       "user_id    0\n",
       "track      0\n",
       "artist     0\n",
       "genre      0\n",
       "city       0\n",
       "time       0\n",
       "day        0\n",
       "dtype: int64"
      ]
     },
     "execution_count": 18,
     "metadata": {},
     "output_type": "execute_result"
    }
   ],
   "source": [
    "#Creo una lista que almacene los nombres de las columnas donde se necesita el reemplazo\n",
    "columns_to_replace = ['track', 'artist', 'genre']\n",
    "\n",
    "# Bucle en los encabezados reemplazando los valores ausentes con 'unknown'\n",
    "for col in columns_to_replace:\n",
    "    df[col].fillna('unknown', inplace = True)\n",
    "    \n",
    "#Verifico que no haya valores ausentes\n",
    "df.isna().sum()"
   ]
  },
  {
   "cell_type": "code",
   "execution_count": 19,
   "id": "41c6aa28",
   "metadata": {},
   "outputs": [
    {
     "data": {
      "text/plain": [
       "0"
      ]
     },
     "execution_count": 19,
     "metadata": {},
     "output_type": "execute_result"
    }
   ],
   "source": [
    "#Cuento duplicados explícitos\n",
    "df.duplicated().sum()"
   ]
  },
  {
   "cell_type": "code",
   "execution_count": 23,
   "id": "e1ff1f09",
   "metadata": {},
   "outputs": [
    {
     "data": {
      "text/plain": [
       "0"
      ]
     },
     "execution_count": 23,
     "metadata": {},
     "output_type": "execute_result"
    }
   ],
   "source": [
    "#Elimino duplicados explícitos\n",
    "df.drop_duplicates(inplace=True)\n",
    "df.duplicated().sum()"
   ]
  },
  {
   "cell_type": "markdown",
   "id": "408d01d2",
   "metadata": {},
   "source": [
    "Ahora quiero deshacerme de los duplicados implícitos en la columna 'genre'. Por ejemplo, el nombre de un género se puede escribir de varias formas. Dichos errores también pueden afectar al resultado.\n",
    "\n",
    "Para hacerlo, primero muestro una lista de nombres de género únicos, ordenados en orden alfabético:"
   ]
  },
  {
   "cell_type": "code",
   "execution_count": 24,
   "id": "eac794f0",
   "metadata": {},
   "outputs": [
    {
     "data": {
      "text/plain": [
       "array(['acid', 'acoustic', 'action', 'adult', 'africa', 'afrikaans',\n",
       "       'alternative', 'ambient', 'americana', 'animated', 'anime',\n",
       "       'arabesk', 'arabic', 'arena', 'argentinetango', 'art', 'audiobook',\n",
       "       'avantgarde', 'axé', 'baile', 'balkan', 'beats', 'bigroom',\n",
       "       'black', 'bluegrass', 'blues', 'bollywood', 'bossa', 'brazilian',\n",
       "       'breakbeat', 'breaks', 'broadway', 'cantautori', 'cantopop',\n",
       "       'canzone', 'caribbean', 'caucasian', 'celtic', 'chamber',\n",
       "       'children', 'chill', 'chinese', 'choral', 'christian', 'christmas',\n",
       "       'classical', 'classicmetal', 'club', 'colombian', 'comedy',\n",
       "       'conjazz', 'contemporary', 'country', 'cuban', 'dance',\n",
       "       'dancehall', 'dancepop', 'dark', 'death', 'deep', 'deutschrock',\n",
       "       'deutschspr', 'dirty', 'disco', 'dnb', 'documentary', 'downbeat',\n",
       "       'downtempo', 'drum', 'dub', 'dubstep', 'eastern', 'easy',\n",
       "       'electronic', 'electropop', 'emo', 'entehno', 'epicmetal',\n",
       "       'estrada', 'ethnic', 'eurofolk', 'european', 'experimental',\n",
       "       'extrememetal', 'fado', 'film', 'fitness', 'flamenco', 'folk',\n",
       "       'folklore', 'folkmetal', 'folkrock', 'folktronica', 'forró',\n",
       "       'frankreich', 'französisch', 'french', 'funk', 'future', 'gangsta',\n",
       "       'garage', 'german', 'ghazal', 'gitarre', 'glitch', 'gospel',\n",
       "       'gothic', 'grime', 'grunge', 'gypsy', 'handsup', \"hard'n'heavy\",\n",
       "       'hardcore', 'hardstyle', 'hardtechno', 'hip', 'hip-hop', 'hiphop',\n",
       "       'historisch', 'holiday', 'hop', 'horror', 'house', 'idm',\n",
       "       'independent', 'indian', 'indie', 'indipop', 'industrial',\n",
       "       'inspirational', 'instrumental', 'international', 'irish', 'jam',\n",
       "       'japanese', 'jazz', 'jewish', 'jpop', 'jungle', 'k-pop',\n",
       "       'karadeniz', 'karaoke', 'kayokyoku', 'korean', 'laiko', 'latin',\n",
       "       'latino', 'leftfield', 'local', 'lounge', 'loungeelectronic',\n",
       "       'lovers', 'malaysian', 'mandopop', 'marschmusik', 'meditative',\n",
       "       'mediterranean', 'melodic', 'metal', 'metalcore', 'mexican',\n",
       "       'middle', 'minimal', 'miscellaneous', 'modern', 'mood', 'mpb',\n",
       "       'muslim', 'native', 'neoklassik', 'neue', 'new', 'newage',\n",
       "       'newwave', 'nu', 'nujazz', 'numetal', 'oceania', 'old', 'opera',\n",
       "       'orchestral', 'other', 'piano', 'pop', 'popelectronic',\n",
       "       'popeurodance', 'post', 'posthardcore', 'postrock', 'power',\n",
       "       'progmetal', 'progressive', 'psychedelic', 'punjabi', 'punk',\n",
       "       'quebecois', 'ragga', 'ram', 'rancheras', 'rap', 'rave', 'reggae',\n",
       "       'reggaeton', 'regional', 'relax', 'religious', 'retro', 'rhythm',\n",
       "       'rnb', 'rnr', 'rock', 'rockabilly', 'romance', 'roots', 'ruspop',\n",
       "       'rusrap', 'rusrock', 'salsa', 'samba', 'schlager', 'self',\n",
       "       'sertanejo', 'shoegazing', 'showtunes', 'singer', 'ska', 'slow',\n",
       "       'smooth', 'soul', 'soulful', 'sound', 'soundtrack', 'southern',\n",
       "       'specialty', 'speech', 'spiritual', 'sport', 'stonerrock', 'surf',\n",
       "       'swing', 'synthpop', 'sängerportrait', 'tango', 'tanzorchester',\n",
       "       'taraftar', 'tech', 'techno', 'thrash', 'top', 'traditional',\n",
       "       'tradjazz', 'trance', 'tribal', 'trip', 'triphop', 'tropical',\n",
       "       'türk', 'türkçe', 'unknown', 'urban', 'uzbek', 'variété', 'vi',\n",
       "       'videogame', 'vocal', 'western', 'world', 'worldbeat', 'ïîï'],\n",
       "      dtype=object)"
      ]
     },
     "execution_count": 24,
     "metadata": {},
     "output_type": "execute_result"
    }
   ],
   "source": [
    "df['genre'].sort_values().unique()"
   ]
  },
  {
   "cell_type": "markdown",
   "id": "615bab67",
   "metadata": {},
   "source": [
    "Se observan los duplicados implícitos: hip, hop, hip-hop. Así que los voy a llamar a todos hiphop."
   ]
  },
  {
   "cell_type": "code",
   "execution_count": 26,
   "id": "155aba16",
   "metadata": {},
   "outputs": [
    {
     "data": {
      "text/plain": [
       "array(['acid', 'acoustic', 'action', 'adult', 'africa', 'afrikaans',\n",
       "       'alternative', 'ambient', 'americana', 'animated', 'anime',\n",
       "       'arabesk', 'arabic', 'arena', 'argentinetango', 'art', 'audiobook',\n",
       "       'avantgarde', 'axé', 'baile', 'balkan', 'beats', 'bigroom',\n",
       "       'black', 'bluegrass', 'blues', 'bollywood', 'bossa', 'brazilian',\n",
       "       'breakbeat', 'breaks', 'broadway', 'cantautori', 'cantopop',\n",
       "       'canzone', 'caribbean', 'caucasian', 'celtic', 'chamber',\n",
       "       'children', 'chill', 'chinese', 'choral', 'christian', 'christmas',\n",
       "       'classical', 'classicmetal', 'club', 'colombian', 'comedy',\n",
       "       'conjazz', 'contemporary', 'country', 'cuban', 'dance',\n",
       "       'dancehall', 'dancepop', 'dark', 'death', 'deep', 'deutschrock',\n",
       "       'deutschspr', 'dirty', 'disco', 'dnb', 'documentary', 'downbeat',\n",
       "       'downtempo', 'drum', 'dub', 'dubstep', 'eastern', 'easy',\n",
       "       'electronic', 'electropop', 'emo', 'entehno', 'epicmetal',\n",
       "       'estrada', 'ethnic', 'eurofolk', 'european', 'experimental',\n",
       "       'extrememetal', 'fado', 'film', 'fitness', 'flamenco', 'folk',\n",
       "       'folklore', 'folkmetal', 'folkrock', 'folktronica', 'forró',\n",
       "       'frankreich', 'französisch', 'french', 'funk', 'future', 'gangsta',\n",
       "       'garage', 'german', 'ghazal', 'gitarre', 'glitch', 'gospel',\n",
       "       'gothic', 'grime', 'grunge', 'gypsy', 'handsup', \"hard'n'heavy\",\n",
       "       'hardcore', 'hardstyle', 'hardtechno', 'hiphop', 'historisch',\n",
       "       'holiday', 'horror', 'house', 'idm', 'independent', 'indian',\n",
       "       'indie', 'indipop', 'industrial', 'inspirational', 'instrumental',\n",
       "       'international', 'irish', 'jam', 'japanese', 'jazz', 'jewish',\n",
       "       'jpop', 'jungle', 'k-pop', 'karadeniz', 'karaoke', 'kayokyoku',\n",
       "       'korean', 'laiko', 'latin', 'latino', 'leftfield', 'local',\n",
       "       'lounge', 'loungeelectronic', 'lovers', 'malaysian', 'mandopop',\n",
       "       'marschmusik', 'meditative', 'mediterranean', 'melodic', 'metal',\n",
       "       'metalcore', 'mexican', 'middle', 'minimal', 'miscellaneous',\n",
       "       'modern', 'mood', 'mpb', 'muslim', 'native', 'neoklassik', 'neue',\n",
       "       'new', 'newage', 'newwave', 'nu', 'nujazz', 'numetal', 'oceania',\n",
       "       'old', 'opera', 'orchestral', 'other', 'piano', 'pop',\n",
       "       'popelectronic', 'popeurodance', 'post', 'posthardcore',\n",
       "       'postrock', 'power', 'progmetal', 'progressive', 'psychedelic',\n",
       "       'punjabi', 'punk', 'quebecois', 'ragga', 'ram', 'rancheras', 'rap',\n",
       "       'rave', 'reggae', 'reggaeton', 'regional', 'relax', 'religious',\n",
       "       'retro', 'rhythm', 'rnb', 'rnr', 'rock', 'rockabilly', 'romance',\n",
       "       'roots', 'ruspop', 'rusrap', 'rusrock', 'salsa', 'samba',\n",
       "       'schlager', 'self', 'sertanejo', 'shoegazing', 'showtunes',\n",
       "       'singer', 'ska', 'slow', 'smooth', 'soul', 'soulful', 'sound',\n",
       "       'soundtrack', 'southern', 'specialty', 'speech', 'spiritual',\n",
       "       'sport', 'stonerrock', 'surf', 'swing', 'synthpop',\n",
       "       'sängerportrait', 'tango', 'tanzorchester', 'taraftar', 'tech',\n",
       "       'techno', 'thrash', 'top', 'traditional', 'tradjazz', 'trance',\n",
       "       'tribal', 'trip', 'triphop', 'tropical', 'türk', 'türkçe',\n",
       "       'unknown', 'urban', 'uzbek', 'variété', 'vi', 'videogame', 'vocal',\n",
       "       'western', 'world', 'worldbeat', 'ïîï'], dtype=object)"
      ]
     },
     "execution_count": 26,
     "metadata": {},
     "output_type": "execute_result"
    }
   ],
   "source": [
    "#Creo una función con dos parámetros\n",
    "def replace_wrong_genres(wrong_genres, correct_genre):\n",
    "    #Itero sobre la lista de géneros incorrectos\n",
    "    for wrong_genre in wrong_genres: \n",
    "        df['genre'].replace(wrong_genre,correct_genre, inplace=True)\n",
    "    return df\n",
    "\n",
    "#Elimino los duplicados implícitos\n",
    "wrong_genre = ['hip', 'hop', 'hip-hop']\n",
    "correct_genre = 'hiphop'\n",
    "replace_wrong_genres(wrong_genre, correct_genre)\n",
    "\n",
    "#Compruebo que no haya duplicados implícitos\n",
    "df['genre'].sort_values().unique()"
   ]
  },
  {
   "cell_type": "markdown",
   "id": "bf15c24e",
   "metadata": {},
   "source": [
    "# Etapa 3\n",
    "Prueba de hipótesis "
   ]
  },
  {
   "cell_type": "markdown",
   "id": "436413c5",
   "metadata": {},
   "source": [
    "La hipótesis consiste en comparar el comportamiento de los usuarios en las dos ciudades.\n",
    "\n",
    "La hipótesis afirma que existen diferencias en la forma en que los usuarios y las usuarias de Springfield y Shelbyville consumen música. Para comprobar esto, voy a utilizar los datos de tres días de la semana: lunes, miércoles y viernes."
   ]
  },
  {
   "cell_type": "code",
   "execution_count": 27,
   "id": "1bdb7592",
   "metadata": {},
   "outputs": [
    {
     "data": {
      "text/plain": [
       "city\n",
       "Shelbyville    18512\n",
       "Springfield    42741\n",
       "Name: user_id, dtype: int64"
      ]
     },
     "execution_count": 27,
     "metadata": {},
     "output_type": "execute_result"
    }
   ],
   "source": [
    "#Agrupo los usuarios por ciudad y los cuento\n",
    "by_city = df.groupby('city')['user_id'].count()\n",
    "by_city"
   ]
  },
  {
   "cell_type": "markdown",
   "id": "96893011",
   "metadata": {},
   "source": [
    "Ahora sabemos que en Springfield escuchan 230% más música que en Shelbyville."
   ]
  },
  {
   "cell_type": "code",
   "execution_count": 28,
   "id": "a0cfcf62",
   "metadata": {},
   "outputs": [
    {
     "data": {
      "text/plain": [
       "day\n",
       "Friday       21840\n",
       "Monday       21354\n",
       "Wednesday    18059\n",
       "Name: user_id, dtype: int64"
      ]
     },
     "execution_count": 28,
     "metadata": {},
     "output_type": "execute_result"
    }
   ],
   "source": [
    "#Agrupo los datos por día de la semana y calculo las canciones reproducidas en cada uno de los tres días\n",
    "by_day = df.groupby('day')['user_id'].count()\n",
    "by_day"
   ]
  },
  {
   "cell_type": "markdown",
   "id": "3d090329",
   "metadata": {},
   "source": [
    "El viernes es el días de la semana que más música escuchan los usuarios y los miércoles el día que menos."
   ]
  },
  {
   "cell_type": "code",
   "execution_count": 29,
   "id": "ae725b4f",
   "metadata": {},
   "outputs": [],
   "source": [
    "#Creo una función para calcular el número de canciones reproducidas en un determinado día y ciudad\n",
    "def number_tracks(day, city): \n",
    "    #Almaceno las filas del DataFrame donde el valor en la columna 'day' es igual al parámetro day=\n",
    "    day_filtered = df[df['day'] == day] \n",
    "    #Filtro las filas donde el valor en la columna 'city' es igual al parámetro city=\n",
    "    city_filtered = day_filtered[day_filtered['city'] == city] \n",
    "    #Extraigo la columna 'user_id' de la tabla filtrada y aplico el método count()\n",
    "    users_filtered = city_filtered['user_id'].count() \n",
    "    #Devuelvo el número de valores de la columna 'user_id'\n",
    "    return(users_filtered) "
   ]
  },
  {
   "cell_type": "markdown",
   "id": "bad1df9d",
   "metadata": {},
   "source": [
    "Voy a llamar a number_tracks(), cambiando los valores de los parámetros para recuperar los datos de ambas ciudades para cada uno de los tres días:"
   ]
  },
  {
   "cell_type": "code",
   "execution_count": 30,
   "id": "46d02fee",
   "metadata": {},
   "outputs": [
    {
     "data": {
      "text/plain": [
       "15740"
      ]
     },
     "execution_count": 30,
     "metadata": {},
     "output_type": "execute_result"
    }
   ],
   "source": [
    "#Canciones reproducidas en Springfield el lunes \n",
    "day = 'Monday'\n",
    "city = 'Springfield' \n",
    "df_filtered = number_tracks(day, city) \n",
    "df_filtered"
   ]
  },
  {
   "cell_type": "code",
   "execution_count": 32,
   "id": "24d19cff",
   "metadata": {},
   "outputs": [
    {
     "data": {
      "text/plain": [
       "5614"
      ]
     },
     "execution_count": 32,
     "metadata": {},
     "output_type": "execute_result"
    }
   ],
   "source": [
    "#Canciones reproducidas en Shelbyville el lunes \n",
    "day = 'Monday'\n",
    "city = 'Shelbyville' \n",
    "df_filtered = number_tracks(day, city) \n",
    "df_filtered"
   ]
  },
  {
   "cell_type": "code",
   "execution_count": 33,
   "id": "5df9be0a",
   "metadata": {},
   "outputs": [
    {
     "data": {
      "text/plain": [
       "11056"
      ]
     },
     "execution_count": 33,
     "metadata": {},
     "output_type": "execute_result"
    }
   ],
   "source": [
    "#Canciones reproducidas en Springfield el miércoles \n",
    "day = 'Wednesday'\n",
    "city = 'Springfield' \n",
    "df_filtered = number_tracks(day, city) \n",
    "df_filtered\n"
   ]
  },
  {
   "cell_type": "code",
   "execution_count": 34,
   "id": "6199b8c8",
   "metadata": {},
   "outputs": [
    {
     "data": {
      "text/plain": [
       "7003"
      ]
     },
     "execution_count": 34,
     "metadata": {},
     "output_type": "execute_result"
    }
   ],
   "source": [
    "#Canciones reproducidas en Shelbyville el miércoles \n",
    "day = 'Wednesday'\n",
    "city = 'Shelbyville' \n",
    "df_filtered = number_tracks(day, city) \n",
    "df_filtered"
   ]
  },
  {
   "cell_type": "code",
   "execution_count": 35,
   "id": "85a1a9de",
   "metadata": {},
   "outputs": [
    {
     "data": {
      "text/plain": [
       "15945"
      ]
     },
     "execution_count": 35,
     "metadata": {},
     "output_type": "execute_result"
    }
   ],
   "source": [
    "#Canciones reproducidas en Springfield el viernes \n",
    "day = 'Friday'\n",
    "city = 'Springfield' \n",
    "df_filtered = number_tracks(day, city) \n",
    "df_filtered"
   ]
  },
  {
   "cell_type": "code",
   "execution_count": 36,
   "id": "1585f51f",
   "metadata": {},
   "outputs": [
    {
     "data": {
      "text/plain": [
       "5895"
      ]
     },
     "execution_count": 36,
     "metadata": {},
     "output_type": "execute_result"
    }
   ],
   "source": [
    "#Canciones reproducidas en Shelbyville el viernes \n",
    "day = 'Friday'\n",
    "city = 'Shelbyville' \n",
    "df_filtered = number_tracks(day, city) \n",
    "df_filtered"
   ]
  },
  {
   "cell_type": "markdown",
   "id": "9ac799a2",
   "metadata": {},
   "source": [
    "# Conclusión\n",
    "\n",
    "La hipótesis \"La actividad de los usuarios y las usuarias difiere según el día de la semana y dependiendo de la ciudad\" es correcta. \n",
    "\n",
    "La actividad de los usuarios varia mucho entre una ciudad y la otra, como mencioné anteriormente en Springfield la actividad es 230% más alta que en Shelbyville. Respecto a los días analizados (lunes, miércoles y viernes) también se observa que la actividad varia entre estos.\n",
    "\n",
    "En ambas ciudades se observa que la actividad los lunes y viernes es muy similar. Sin embargo, en Shelbyville la actividad es mayor los miércoles y en Springfield es menor."
   ]
  }
 ],
 "metadata": {
  "ExecuteTimeLog": [
   {
    "duration": 338,
    "start_time": "2024-09-19T18:58:39.377Z"
   },
   {
    "duration": 211,
    "start_time": "2024-09-19T19:00:28.285Z"
   },
   {
    "duration": 32,
    "start_time": "2024-09-19T19:02:50.025Z"
   },
   {
    "duration": 22,
    "start_time": "2024-09-19T19:03:26.464Z"
   },
   {
    "duration": 2,
    "start_time": "2024-09-19T19:08:03.698Z"
   },
   {
    "duration": 4,
    "start_time": "2024-09-19T19:14:11.098Z"
   },
   {
    "duration": 9,
    "start_time": "2024-09-19T19:14:16.116Z"
   },
   {
    "duration": 5,
    "start_time": "2024-09-19T19:15:58.361Z"
   },
   {
    "duration": 4,
    "start_time": "2024-09-19T19:18:01.162Z"
   },
   {
    "duration": 2,
    "start_time": "2024-09-19T19:18:37.581Z"
   },
   {
    "duration": 4,
    "start_time": "2024-09-19T19:18:50.571Z"
   },
   {
    "duration": 17,
    "start_time": "2024-09-19T19:27:25.521Z"
   },
   {
    "duration": 25,
    "start_time": "2024-09-19T19:29:41.609Z"
   },
   {
    "duration": 54,
    "start_time": "2024-09-19T19:30:55.845Z"
   },
   {
    "duration": 51,
    "start_time": "2024-09-19T19:31:20.946Z"
   },
   {
    "duration": 82,
    "start_time": "2024-09-19T19:31:31.713Z"
   },
   {
    "duration": 4,
    "start_time": "2024-09-19T19:32:09.099Z"
   },
   {
    "duration": 25,
    "start_time": "2024-09-19T19:32:12.780Z"
   },
   {
    "duration": 59,
    "start_time": "2024-09-19T19:32:14.706Z"
   },
   {
    "duration": 100,
    "start_time": "2024-09-19T19:32:17.021Z"
   },
   {
    "duration": 105,
    "start_time": "2024-09-19T19:33:05.015Z"
   },
   {
    "duration": 128,
    "start_time": "2024-09-19T19:33:09.766Z"
   },
   {
    "duration": 109,
    "start_time": "2024-09-19T19:33:50.525Z"
   },
   {
    "duration": 32,
    "start_time": "2024-09-19T19:35:14.329Z"
   },
   {
    "duration": 19,
    "start_time": "2024-09-19T19:39:21.226Z"
   },
   {
    "duration": 46,
    "start_time": "2024-09-19T19:40:05.700Z"
   },
   {
    "duration": 14,
    "start_time": "2024-09-19T19:46:04.823Z"
   },
   {
    "duration": 11,
    "start_time": "2024-09-19T19:49:04.277Z"
   },
   {
    "duration": 3,
    "start_time": "2024-09-19T19:52:52.497Z"
   },
   {
    "duration": 16,
    "start_time": "2024-09-19T19:55:33.837Z"
   },
   {
    "duration": 15,
    "start_time": "2024-09-19T19:55:54.901Z"
   },
   {
    "duration": 14,
    "start_time": "2024-09-19T19:56:36.917Z"
   },
   {
    "duration": 17,
    "start_time": "2024-09-19T19:56:41.120Z"
   },
   {
    "duration": 14,
    "start_time": "2024-09-19T19:57:10.319Z"
   },
   {
    "duration": 15,
    "start_time": "2024-09-19T19:59:26.617Z"
   },
   {
    "duration": 13,
    "start_time": "2024-09-19T19:59:52.126Z"
   }
  ],
  "kernelspec": {
   "display_name": "Python 3 (ipykernel)",
   "language": "python",
   "name": "python3"
  },
  "language_info": {
   "codemirror_mode": {
    "name": "ipython",
    "version": 3
   },
   "file_extension": ".py",
   "mimetype": "text/x-python",
   "name": "python",
   "nbconvert_exporter": "python",
   "pygments_lexer": "ipython3",
   "version": "3.9.19"
  },
  "toc": {
   "base_numbering": 1,
   "nav_menu": {},
   "number_sections": true,
   "sideBar": true,
   "skip_h1_title": true,
   "title_cell": "Table of Contents",
   "title_sidebar": "Contents",
   "toc_cell": false,
   "toc_position": {},
   "toc_section_display": true,
   "toc_window_display": false
  }
 },
 "nbformat": 4,
 "nbformat_minor": 5
}
